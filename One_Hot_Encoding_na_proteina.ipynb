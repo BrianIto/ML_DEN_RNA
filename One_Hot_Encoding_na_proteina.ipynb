{
  "nbformat": 4,
  "nbformat_minor": 0,
  "metadata": {
    "colab": {
      "name": "One Hot Encoding na proteina.ipynb",
      "provenance": [],
      "collapsed_sections": [],
      "mount_file_id": "1iMDn3fy0P2NVljWfh5VzyZ2_9XibDcmQ",
      "authorship_tag": "ABX9TyM400YHXk94IwPhU2qpH6cA",
      "include_colab_link": true
    },
    "kernelspec": {
      "display_name": "Python 3",
      "name": "python3"
    },
    "language_info": {
      "name": "python"
    }
  },
  "cells": [
    {
      "cell_type": "markdown",
      "metadata": {
        "id": "view-in-github",
        "colab_type": "text"
      },
      "source": [
        "<a href=\"https://colab.research.google.com/github/BrianIto/ML_DEN_RNA/blob/main/One_Hot_Encoding_na_proteina.ipynb\" target=\"_parent\"><img src=\"https://colab.research.google.com/assets/colab-badge.svg\" alt=\"Open In Colab\"/></a>"
      ]
    },
    {
      "cell_type": "code",
      "metadata": {
        "id": "AgjIxL5K6sFB"
      },
      "source": [
        "import numpy as np\n",
        "import pandas as pd\n",
        "import matplotlib.pyplot as plt\n",
        "\n",
        "ns1 = pd.read_csv('E_protein.csv')"
      ],
      "execution_count": 103,
      "outputs": []
    },
    {
      "cell_type": "code",
      "metadata": {
        "id": "m6aBWC6c9Z9T",
        "colab": {
          "base_uri": "https://localhost:8080/"
        },
        "outputId": "9a8c3af8-3d31-4a2e-8036-edb134a7361a"
      },
      "source": [
        "#Transforma String do vetor do CSV em vetor.\n",
        "sequences = ns1[\"sequences\"].str.replace(\"[\", \"\")\n",
        "sequences = sequences.str.replace(\"]\", \"\")\n",
        "sequences = sequences.str.replace(\"'\", \"\")\n",
        "sequences = np.array(sequences.str.split(\", \"))\n",
        "ns1.sequences = sequences\n",
        "ns1.shape"
      ],
      "execution_count": 104,
      "outputs": [
        {
          "output_type": "execute_result",
          "data": {
            "text/plain": [
              "(271, 4)"
            ]
          },
          "metadata": {
            "tags": []
          },
          "execution_count": 104
        }
      ]
    },
    {
      "cell_type": "code",
      "metadata": {
        "id": "8yIhjm-1-B1h",
        "colab": {
          "base_uri": "https://localhost:8080/"
        },
        "outputId": "8fa87216-a534-4cb2-c677-8ca8fc383566"
      },
      "source": [
        "#Severa == 1 e Classica == 0\n",
        "ns1[\"Label\"] = (ns1[\"outcome\"] == \"Severa\").astype(int)\n",
        "\n",
        "train_labels = np.array(ns1[\"Label\"])\n",
        "train_labels"
      ],
      "execution_count": 105,
      "outputs": [
        {
          "output_type": "execute_result",
          "data": {
            "text/plain": [
              "array([1, 1, 1, 0, 0, 0, 0, 0, 0, 0, 0, 0, 0, 0, 0, 0, 0, 0, 0, 0, 0, 0,\n",
              "       0, 0, 0, 0, 0, 0, 1, 1, 1, 1, 1, 1, 0, 1, 0, 0, 0, 0, 0, 0, 0, 0,\n",
              "       0, 0, 0, 0, 0, 0, 1, 0, 0, 0, 0, 0, 0, 0, 0, 0, 1, 0, 0, 0, 0, 0,\n",
              "       0, 0, 0, 0, 0, 0, 0, 0, 0, 0, 0, 1, 1, 0, 1, 1, 1, 1, 1, 0, 1, 1,\n",
              "       0, 1, 1, 0, 1, 0, 0, 0, 0, 0, 0, 1, 0, 0, 1, 1, 0, 0, 0, 0, 0, 0,\n",
              "       0, 0, 0, 0, 0, 1, 0, 1, 1, 1, 0, 0, 0, 0, 1, 0, 0, 1, 1, 0, 1, 1,\n",
              "       0, 1, 1, 0, 1, 1, 1, 1, 1, 1, 1, 1, 0, 1, 0, 0, 0, 0, 0, 1, 0, 0,\n",
              "       0, 0, 0, 0, 1, 0, 0, 0, 0, 0, 0, 1, 1, 0, 1, 1, 1, 0, 0, 1, 1, 0,\n",
              "       1, 0, 0, 1, 1, 1, 1, 0, 1, 1, 0, 1, 0, 1, 1, 1, 1, 0, 0, 0, 1, 1,\n",
              "       0, 0, 0, 0, 0, 1, 0, 0, 0, 1, 0, 0, 0, 0, 0, 0, 0, 0, 0, 0, 0, 0,\n",
              "       0, 0, 0, 0, 1, 0, 1, 0, 0, 0, 0, 0, 1, 0, 0, 1, 0, 0, 0, 0, 0, 0,\n",
              "       0, 1, 0, 0, 1, 0, 0, 0, 0, 0, 0, 0, 0, 0, 0, 0, 1, 1, 0, 0, 0, 0,\n",
              "       1, 0, 0, 0, 0, 0, 0])"
            ]
          },
          "metadata": {
            "tags": []
          },
          "execution_count": 105
        }
      ]
    },
    {
      "cell_type": "code",
      "metadata": {
        "id": "rsHJAqfO_8j2"
      },
      "source": [
        "data_dict = {}\n",
        "\n",
        "#Cria Dicionário de Frequência\n",
        "for i, sequence in enumerate(np.array(ns1[\"sequences\"])):\n",
        "  for j, codon in enumerate(sequence):\n",
        "    if (codon in data_dict):\n",
        "      data_dict[codon] += 1\n",
        "    else:\n",
        "      data_dict[codon] = 1\n",
        "\n",
        "#Cria Dicionário de Ranking de Aparição\n",
        "def getMaior(dict):\n",
        "  max, maxKey = -1, ''\n",
        "  for key in dict:\n",
        "    if (max < dict[key]):\n",
        "      max = dict[key]\n",
        "      maxKey = key\n",
        "  return max, maxKey\n",
        "  \n",
        "size = len(data_dict.keys())\n",
        "\n",
        "data_dict_copy = data_dict.copy()\n",
        "dict_final = {}\n",
        "\n",
        "for i in range(0, size):\n",
        "  max, maxKey = getMaior(data_dict_copy)\n",
        "  del data_dict_copy[maxKey]\n",
        "  dict_final[maxKey] = i"
      ],
      "execution_count": 106,
      "outputs": []
    },
    {
      "cell_type": "code",
      "metadata": {
        "id": "2MlfHjAyDGtc"
      },
      "source": [
        "for i in range(0, ns1[\"sequences\"].shape[0]):\n",
        "  for j in range(0, len(ns1[\"sequences\"].loc[i])):\n",
        "    ns1[\"sequences\"].loc[i][j] = dict_final[ns1[\"sequences\"].loc[i][j]]"
      ],
      "execution_count": 107,
      "outputs": []
    },
    {
      "cell_type": "code",
      "metadata": {
        "id": "TqiH57CMP8Vk",
        "colab": {
          "base_uri": "https://localhost:8080/",
          "height": 419
        },
        "outputId": "cc88dc66-62ec-48b2-84fd-396227caf00b"
      },
      "source": [
        "ns1"
      ],
      "execution_count": 108,
      "outputs": [
        {
          "output_type": "execute_result",
          "data": {
            "text/html": [
              "<div>\n",
              "<style scoped>\n",
              "    .dataframe tbody tr th:only-of-type {\n",
              "        vertical-align: middle;\n",
              "    }\n",
              "\n",
              "    .dataframe tbody tr th {\n",
              "        vertical-align: top;\n",
              "    }\n",
              "\n",
              "    .dataframe thead th {\n",
              "        text-align: right;\n",
              "    }\n",
              "</style>\n",
              "<table border=\"1\" class=\"dataframe\">\n",
              "  <thead>\n",
              "    <tr style=\"text-align: right;\">\n",
              "      <th></th>\n",
              "      <th>sequences</th>\n",
              "      <th>serotype</th>\n",
              "      <th>outcome</th>\n",
              "      <th>outcome_bin</th>\n",
              "      <th>Label</th>\n",
              "    </tr>\n",
              "  </thead>\n",
              "  <tbody>\n",
              "    <tr>\n",
              "      <th>0</th>\n",
              "      <td>[22, 19, 19, 14, 38, 7, 4, 7, 35, 2, 44, 13, 4...</td>\n",
              "      <td>3</td>\n",
              "      <td>Severa</td>\n",
              "      <td>Severa</td>\n",
              "      <td>1</td>\n",
              "    </tr>\n",
              "    <tr>\n",
              "      <th>1</th>\n",
              "      <td>[22, 19, 19, 14, 38, 7, 4, 7, 35, 53, 44, 13, ...</td>\n",
              "      <td>3</td>\n",
              "      <td>Severa</td>\n",
              "      <td>Severa</td>\n",
              "      <td>1</td>\n",
              "    </tr>\n",
              "    <tr>\n",
              "      <th>2</th>\n",
              "      <td>[22, 19, 19, 14, 38, 7, 4, 7, 35, 53, 44, 13, ...</td>\n",
              "      <td>3</td>\n",
              "      <td>Severa</td>\n",
              "      <td>Severa</td>\n",
              "      <td>1</td>\n",
              "    </tr>\n",
              "    <tr>\n",
              "      <th>3</th>\n",
              "      <td>[22, 19, 19, 14, 38, 7, 4, 7, 35, 53, 44, 13, ...</td>\n",
              "      <td>3</td>\n",
              "      <td>Classica</td>\n",
              "      <td>Classica</td>\n",
              "      <td>0</td>\n",
              "    </tr>\n",
              "    <tr>\n",
              "      <th>4</th>\n",
              "      <td>[22, 27, 19, 14, 38, 7, 4, 7, 33, 53, 18, 31, ...</td>\n",
              "      <td>3</td>\n",
              "      <td>Classica</td>\n",
              "      <td>Classica</td>\n",
              "      <td>0</td>\n",
              "    </tr>\n",
              "    <tr>\n",
              "      <th>...</th>\n",
              "      <td>...</td>\n",
              "      <td>...</td>\n",
              "      <td>...</td>\n",
              "      <td>...</td>\n",
              "      <td>...</td>\n",
              "    </tr>\n",
              "    <tr>\n",
              "      <th>266</th>\n",
              "      <td>[15, 59, 22, 49, 17, 21, 8, 0, 20, 3, 28, 49, ...</td>\n",
              "      <td>1</td>\n",
              "      <td>Classica</td>\n",
              "      <td>Classica</td>\n",
              "      <td>0</td>\n",
              "    </tr>\n",
              "    <tr>\n",
              "      <th>267</th>\n",
              "      <td>[15, 59, 22, 49, 17, 21, 8, 0, 20, 3, 28, 49, ...</td>\n",
              "      <td>1</td>\n",
              "      <td>Classica</td>\n",
              "      <td>Classica</td>\n",
              "      <td>0</td>\n",
              "    </tr>\n",
              "    <tr>\n",
              "      <th>268</th>\n",
              "      <td>[15, 59, 22, 49, 17, 21, 8, 11, 20, 3, 28, 49,...</td>\n",
              "      <td>1</td>\n",
              "      <td>Classica</td>\n",
              "      <td>Classica</td>\n",
              "      <td>0</td>\n",
              "    </tr>\n",
              "    <tr>\n",
              "      <th>269</th>\n",
              "      <td>[15, 59, 22, 49, 17, 21, 8, 11, 20, 3, 28, 49,...</td>\n",
              "      <td>1</td>\n",
              "      <td>Classica</td>\n",
              "      <td>Classica</td>\n",
              "      <td>0</td>\n",
              "    </tr>\n",
              "    <tr>\n",
              "      <th>270</th>\n",
              "      <td>[15, 59, 22, 49, 17, 21, 8, 60, 20, 3, 28, 49,...</td>\n",
              "      <td>1</td>\n",
              "      <td>Classica</td>\n",
              "      <td>Classica</td>\n",
              "      <td>0</td>\n",
              "    </tr>\n",
              "  </tbody>\n",
              "</table>\n",
              "<p>271 rows × 5 columns</p>\n",
              "</div>"
            ],
            "text/plain": [
              "                                             sequences  ...  Label\n",
              "0    [22, 19, 19, 14, 38, 7, 4, 7, 35, 2, 44, 13, 4...  ...      1\n",
              "1    [22, 19, 19, 14, 38, 7, 4, 7, 35, 53, 44, 13, ...  ...      1\n",
              "2    [22, 19, 19, 14, 38, 7, 4, 7, 35, 53, 44, 13, ...  ...      1\n",
              "3    [22, 19, 19, 14, 38, 7, 4, 7, 35, 53, 44, 13, ...  ...      0\n",
              "4    [22, 27, 19, 14, 38, 7, 4, 7, 33, 53, 18, 31, ...  ...      0\n",
              "..                                                 ...  ...    ...\n",
              "266  [15, 59, 22, 49, 17, 21, 8, 0, 20, 3, 28, 49, ...  ...      0\n",
              "267  [15, 59, 22, 49, 17, 21, 8, 0, 20, 3, 28, 49, ...  ...      0\n",
              "268  [15, 59, 22, 49, 17, 21, 8, 11, 20, 3, 28, 49,...  ...      0\n",
              "269  [15, 59, 22, 49, 17, 21, 8, 11, 20, 3, 28, 49,...  ...      0\n",
              "270  [15, 59, 22, 49, 17, 21, 8, 60, 20, 3, 28, 49,...  ...      0\n",
              "\n",
              "[271 rows x 5 columns]"
            ]
          },
          "metadata": {
            "tags": []
          },
          "execution_count": 108
        }
      ]
    },
    {
      "cell_type": "code",
      "metadata": {
        "id": "BafdpjGRSGYl",
        "colab": {
          "base_uri": "https://localhost:8080/",
          "height": 419
        },
        "outputId": "fa9a4761-a878-4a99-f74a-b26ef0d2fa84"
      },
      "source": [
        "arr = np.array(ns1.sequences)\n",
        "\n",
        "matriz = []\n",
        "for i, lista in enumerate(arr):\n",
        "  matriz_dispersao = np.zeros(size)\n",
        "  for j, elem in enumerate(lista):\n",
        "    matriz_dispersao[elem] += 1\n",
        "  matriz.append(matriz_dispersao.astype(int))\n",
        "\n",
        "train_data = np.array(matriz)\n",
        "train_data.shape\n",
        "ns1[\"matriz_disp\"] = matriz\n",
        "dataEmbeddingKeras = ns1.copy()\n",
        "ns1"
      ],
      "execution_count": 109,
      "outputs": [
        {
          "output_type": "execute_result",
          "data": {
            "text/html": [
              "<div>\n",
              "<style scoped>\n",
              "    .dataframe tbody tr th:only-of-type {\n",
              "        vertical-align: middle;\n",
              "    }\n",
              "\n",
              "    .dataframe tbody tr th {\n",
              "        vertical-align: top;\n",
              "    }\n",
              "\n",
              "    .dataframe thead th {\n",
              "        text-align: right;\n",
              "    }\n",
              "</style>\n",
              "<table border=\"1\" class=\"dataframe\">\n",
              "  <thead>\n",
              "    <tr style=\"text-align: right;\">\n",
              "      <th></th>\n",
              "      <th>sequences</th>\n",
              "      <th>serotype</th>\n",
              "      <th>outcome</th>\n",
              "      <th>outcome_bin</th>\n",
              "      <th>Label</th>\n",
              "      <th>matriz_disp</th>\n",
              "    </tr>\n",
              "  </thead>\n",
              "  <tbody>\n",
              "    <tr>\n",
              "      <th>0</th>\n",
              "      <td>[22, 19, 19, 14, 38, 7, 4, 7, 35, 2, 44, 13, 4...</td>\n",
              "      <td>3</td>\n",
              "      <td>Severa</td>\n",
              "      <td>Severa</td>\n",
              "      <td>1</td>\n",
              "      <td>[18, 23, 23, 4, 12, 14, 8, 17, 5, 17, 8, 10, 9...</td>\n",
              "    </tr>\n",
              "    <tr>\n",
              "      <th>1</th>\n",
              "      <td>[22, 19, 19, 14, 38, 7, 4, 7, 35, 53, 44, 13, ...</td>\n",
              "      <td>3</td>\n",
              "      <td>Severa</td>\n",
              "      <td>Severa</td>\n",
              "      <td>1</td>\n",
              "      <td>[16, 22, 22, 7, 13, 13, 8, 18, 4, 17, 7, 10, 8...</td>\n",
              "    </tr>\n",
              "    <tr>\n",
              "      <th>2</th>\n",
              "      <td>[22, 19, 19, 14, 38, 7, 4, 7, 35, 53, 44, 13, ...</td>\n",
              "      <td>3</td>\n",
              "      <td>Severa</td>\n",
              "      <td>Severa</td>\n",
              "      <td>1</td>\n",
              "      <td>[17, 22, 22, 5, 13, 13, 8, 18, 4, 18, 7, 10, 8...</td>\n",
              "    </tr>\n",
              "    <tr>\n",
              "      <th>3</th>\n",
              "      <td>[22, 19, 19, 14, 38, 7, 4, 7, 35, 53, 44, 13, ...</td>\n",
              "      <td>3</td>\n",
              "      <td>Classica</td>\n",
              "      <td>Classica</td>\n",
              "      <td>0</td>\n",
              "      <td>[18, 23, 22, 4, 11, 13, 8, 17, 5, 18, 7, 11, 8...</td>\n",
              "    </tr>\n",
              "    <tr>\n",
              "      <th>4</th>\n",
              "      <td>[22, 27, 19, 14, 38, 7, 4, 7, 33, 53, 18, 31, ...</td>\n",
              "      <td>3</td>\n",
              "      <td>Classica</td>\n",
              "      <td>Classica</td>\n",
              "      <td>0</td>\n",
              "      <td>[16, 22, 19, 6, 13, 16, 8, 18, 3, 16, 5, 12, 8...</td>\n",
              "    </tr>\n",
              "    <tr>\n",
              "      <th>...</th>\n",
              "      <td>...</td>\n",
              "      <td>...</td>\n",
              "      <td>...</td>\n",
              "      <td>...</td>\n",
              "      <td>...</td>\n",
              "      <td>...</td>\n",
              "    </tr>\n",
              "    <tr>\n",
              "      <th>266</th>\n",
              "      <td>[15, 59, 22, 49, 17, 21, 8, 0, 20, 3, 28, 49, ...</td>\n",
              "      <td>1</td>\n",
              "      <td>Classica</td>\n",
              "      <td>Classica</td>\n",
              "      <td>0</td>\n",
              "      <td>[18, 14, 9, 21, 19, 13, 15, 5, 22, 4, 17, 13, ...</td>\n",
              "    </tr>\n",
              "    <tr>\n",
              "      <th>267</th>\n",
              "      <td>[15, 59, 22, 49, 17, 21, 8, 0, 20, 3, 28, 49, ...</td>\n",
              "      <td>1</td>\n",
              "      <td>Classica</td>\n",
              "      <td>Classica</td>\n",
              "      <td>0</td>\n",
              "      <td>[18, 14, 9, 21, 19, 13, 14, 5, 22, 4, 17, 13, ...</td>\n",
              "    </tr>\n",
              "    <tr>\n",
              "      <th>268</th>\n",
              "      <td>[15, 59, 22, 49, 17, 21, 8, 11, 20, 3, 28, 49,...</td>\n",
              "      <td>1</td>\n",
              "      <td>Classica</td>\n",
              "      <td>Classica</td>\n",
              "      <td>0</td>\n",
              "      <td>[17, 15, 9, 19, 18, 14, 15, 5, 23, 4, 14, 12, ...</td>\n",
              "    </tr>\n",
              "    <tr>\n",
              "      <th>269</th>\n",
              "      <td>[15, 59, 22, 49, 17, 21, 8, 11, 20, 3, 28, 49,...</td>\n",
              "      <td>1</td>\n",
              "      <td>Classica</td>\n",
              "      <td>Classica</td>\n",
              "      <td>0</td>\n",
              "      <td>[18, 17, 10, 18, 19, 11, 15, 5, 23, 5, 18, 11,...</td>\n",
              "    </tr>\n",
              "    <tr>\n",
              "      <th>270</th>\n",
              "      <td>[15, 59, 22, 49, 17, 21, 8, 60, 20, 3, 28, 49,...</td>\n",
              "      <td>1</td>\n",
              "      <td>Classica</td>\n",
              "      <td>Classica</td>\n",
              "      <td>0</td>\n",
              "      <td>[18, 15, 8, 20, 19, 12, 15, 5, 23, 4, 16, 10, ...</td>\n",
              "    </tr>\n",
              "  </tbody>\n",
              "</table>\n",
              "<p>271 rows × 6 columns</p>\n",
              "</div>"
            ],
            "text/plain": [
              "                                             sequences  ...                                        matriz_disp\n",
              "0    [22, 19, 19, 14, 38, 7, 4, 7, 35, 2, 44, 13, 4...  ...  [18, 23, 23, 4, 12, 14, 8, 17, 5, 17, 8, 10, 9...\n",
              "1    [22, 19, 19, 14, 38, 7, 4, 7, 35, 53, 44, 13, ...  ...  [16, 22, 22, 7, 13, 13, 8, 18, 4, 17, 7, 10, 8...\n",
              "2    [22, 19, 19, 14, 38, 7, 4, 7, 35, 53, 44, 13, ...  ...  [17, 22, 22, 5, 13, 13, 8, 18, 4, 18, 7, 10, 8...\n",
              "3    [22, 19, 19, 14, 38, 7, 4, 7, 35, 53, 44, 13, ...  ...  [18, 23, 22, 4, 11, 13, 8, 17, 5, 18, 7, 11, 8...\n",
              "4    [22, 27, 19, 14, 38, 7, 4, 7, 33, 53, 18, 31, ...  ...  [16, 22, 19, 6, 13, 16, 8, 18, 3, 16, 5, 12, 8...\n",
              "..                                                 ...  ...                                                ...\n",
              "266  [15, 59, 22, 49, 17, 21, 8, 0, 20, 3, 28, 49, ...  ...  [18, 14, 9, 21, 19, 13, 15, 5, 22, 4, 17, 13, ...\n",
              "267  [15, 59, 22, 49, 17, 21, 8, 0, 20, 3, 28, 49, ...  ...  [18, 14, 9, 21, 19, 13, 14, 5, 22, 4, 17, 13, ...\n",
              "268  [15, 59, 22, 49, 17, 21, 8, 11, 20, 3, 28, 49,...  ...  [17, 15, 9, 19, 18, 14, 15, 5, 23, 4, 14, 12, ...\n",
              "269  [15, 59, 22, 49, 17, 21, 8, 11, 20, 3, 28, 49,...  ...  [18, 17, 10, 18, 19, 11, 15, 5, 23, 5, 18, 11,...\n",
              "270  [15, 59, 22, 49, 17, 21, 8, 60, 20, 3, 28, 49,...  ...  [18, 15, 8, 20, 19, 12, 15, 5, 23, 4, 16, 10, ...\n",
              "\n",
              "[271 rows x 6 columns]"
            ]
          },
          "metadata": {
            "tags": []
          },
          "execution_count": 109
        }
      ]
    },
    {
      "cell_type": "code",
      "metadata": {
        "id": "wABYUs1lfbIQ"
      },
      "source": [
        "import tensorflow as tf\n",
        "\n",
        "series = ns1[\"matriz_disp\"].copy()\n",
        "slist = series.to_list()\n",
        "train_data = np.array(slist)"
      ],
      "execution_count": 110,
      "outputs": []
    },
    {
      "cell_type": "code",
      "metadata": {
        "id": "qKJq2Z2hjKZB"
      },
      "source": [
        "#Normalização do Train Data\n",
        "\n",
        "train_stats = pd.DataFrame(train_data).describe()\n",
        "train_stats = train_stats.transpose()\n",
        "\n",
        "def norm(x):\n",
        "  return (x - train_stats['mean']) / train_stats['std']\n",
        "\n",
        "# train_data = normalize(train_data)\n",
        "# train_data\n",
        "\n",
        "train_data = norm(pd.DataFrame(train_data))\n",
        "train_data = train_data.to_numpy()"
      ],
      "execution_count": 111,
      "outputs": []
    },
    {
      "cell_type": "code",
      "metadata": {
        "id": "qpvxaSuzgLAE",
        "colab": {
          "base_uri": "https://localhost:8080/"
        },
        "outputId": "150b5a9c-6022-4790-bf83-e7af0fbbe45b"
      },
      "source": [
        "from keras import models, Model\n",
        "from keras import layers \n",
        "import keras\n",
        "\n",
        "def build_model():\n",
        "    inputs = layers.Input(shape=(size,)) # placeholder\n",
        "    x = layers.Dense(8, activation='tanh')(inputs)\n",
        "    out = layers.Dense(1, activation='sigmoid')(x)\n",
        "\n",
        "    model = Model(inputs=[inputs], outputs=[out], name=\"protein\")\n",
        "\n",
        "    model.summary()\n",
        "\n",
        "    opt = keras.optimizers.SGD(learning_rate=0.01)\n",
        "\n",
        "    model.compile(optimizer=opt,\n",
        "                loss='binary_crossentropy',\n",
        "                metrics=['accuracy'])\n",
        "    return model\n",
        "  \n",
        "modelito = build_model()\n",
        "\n",
        "halfShape = int(np.floor(( ns1.shape[0] /2 )))\n",
        "\n",
        "history = modelito.fit(train_data[:halfShape], train_labels[:halfShape], epochs=10, batch_size=10, \n",
        "                      validation_data=(train_data[halfShape: ns1.shape[0]], train_labels[ halfShape: ns1.shape[0] ]))"
      ],
      "execution_count": 112,
      "outputs": [
        {
          "output_type": "stream",
          "text": [
            "Model: \"protein\"\n",
            "_________________________________________________________________\n",
            "Layer (type)                 Output Shape              Param #   \n",
            "=================================================================\n",
            "input_2 (InputLayer)         [(None, 70)]              0         \n",
            "_________________________________________________________________\n",
            "dense_2 (Dense)              (None, 8)                 568       \n",
            "_________________________________________________________________\n",
            "dense_3 (Dense)              (None, 1)                 9         \n",
            "=================================================================\n",
            "Total params: 577\n",
            "Trainable params: 577\n",
            "Non-trainable params: 0\n",
            "_________________________________________________________________\n",
            "Epoch 1/10\n",
            "14/14 [==============================] - 1s 20ms/step - loss: 0.6252 - accuracy: 0.7696 - val_loss: 0.7420 - val_accuracy: 0.5294\n",
            "Epoch 2/10\n",
            "14/14 [==============================] - 0s 4ms/step - loss: 0.5647 - accuracy: 0.7481 - val_loss: 0.7328 - val_accuracy: 0.5441\n",
            "Epoch 3/10\n",
            "14/14 [==============================] - 0s 3ms/step - loss: 0.5323 - accuracy: 0.7436 - val_loss: 0.7272 - val_accuracy: 0.5662\n",
            "Epoch 4/10\n",
            "14/14 [==============================] - 0s 3ms/step - loss: 0.5267 - accuracy: 0.8096 - val_loss: 0.7244 - val_accuracy: 0.5809\n",
            "Epoch 5/10\n",
            "14/14 [==============================] - 0s 3ms/step - loss: 0.5378 - accuracy: 0.7501 - val_loss: 0.7213 - val_accuracy: 0.5735\n",
            "Epoch 6/10\n",
            "14/14 [==============================] - 0s 4ms/step - loss: 0.5153 - accuracy: 0.7905 - val_loss: 0.7199 - val_accuracy: 0.5735\n",
            "Epoch 7/10\n",
            "14/14 [==============================] - 0s 3ms/step - loss: 0.4802 - accuracy: 0.7882 - val_loss: 0.7189 - val_accuracy: 0.5735\n",
            "Epoch 8/10\n",
            "14/14 [==============================] - 0s 3ms/step - loss: 0.4584 - accuracy: 0.7976 - val_loss: 0.7190 - val_accuracy: 0.5735\n",
            "Epoch 9/10\n",
            "14/14 [==============================] - 0s 3ms/step - loss: 0.4383 - accuracy: 0.8137 - val_loss: 0.7191 - val_accuracy: 0.5515\n",
            "Epoch 10/10\n",
            "14/14 [==============================] - 0s 4ms/step - loss: 0.4177 - accuracy: 0.8330 - val_loss: 0.7196 - val_accuracy: 0.5588\n"
          ],
          "name": "stdout"
        }
      ]
    },
    {
      "cell_type": "code",
      "metadata": {
        "colab": {
          "base_uri": "https://localhost:8080/",
          "height": 280
        },
        "id": "5IVU74EqNyIx",
        "outputId": "b4e2a1f4-b30e-4097-b8bf-9325430ae7c5"
      },
      "source": [
        "\n",
        "fig = plt.figure(figsize=(8, 3))\n",
        "ax = fig.add_axes([0,0,1,1])\n",
        "epochs = list(range(1, len(history.history[\"accuracy\"]) + 1))\n",
        "ax.plot(pd.Series(epochs).astype(int), history.history[\"accuracy\"])\n",
        "ax.plot(epochs, history.history[\"val_accuracy\"])\n",
        "ax.spines[\"right\"].set_visible(False)\n",
        "ax.spines[\"top\"].set_visible(False)\n",
        "ax.spines[\"left\"].set_visible(False)\n",
        "ax.margins(0.2)\n",
        "ax.set_ylim(ymin=0, ymax= 1)\n",
        "plt.xticks(epochs, epochs)\n",
        "plt.legend([\"Acurácia de treino\", \"Acurácia de Validação\"], loc=\"lower right\")\n",
        "plt.title(\"Acurácia & Validação do Treino\")\n",
        "plt.text(len(epochs) + 0.3, \n",
        "         np.max(history.history[\"accuracy\"]) + 0.01, str(round(np.max(history.history[\"accuracy\"]), 4)),\n",
        "         color=\"#1f77b4\")\n",
        "plt.text(len(epochs) + 0.3, np.max(history.history[\"val_accuracy\"]) - 0.06, str(round(np.max(history.history[\"val_accuracy\"]), 4)),\n",
        "         color=\"#ff7f04\")\n",
        "plt.show()"
      ],
      "execution_count": 113,
      "outputs": [
        {
          "output_type": "display_data",
          "data": {
            "image/png": "[encoded data removed]",
            "text/plain": [
              "<Figure size 576x216 with 1 Axes>"
            ]
          },
          "metadata": {
            "tags": [],
            "needs_background": "light"
          }
        }
      ]
    },
    {
      "cell_type": "code",
      "metadata": {
        "id": "y-gJSlxA4Gpm",
        "colab": {
          "base_uri": "https://localhost:8080/"
        },
        "outputId": "f939657b-9068-4316-e975-54ac5a8a7a2c"
      },
      "source": [
        "amount = train_data.shape[0]\n",
        "initial = int(np.floor(amount / 2))\n",
        "\n",
        "test, val = train_data[initial:amount], train_labels[initial:amount]\n",
        "\n",
        "prediction = modelito.predict(test)\n",
        "\n",
        "arr_prediction = pd.Series(tf.greater(prediction, 0.5).numpy().reshape(-1))\n",
        "arr_prediction = arr_prediction.astype(int).to_numpy()\n",
        "\n",
        "falsos_negativos, falsos_positivos = 0,0\n",
        "acertos_positivos, acertos_negativos = 0,0\n",
        "\n",
        "for index, valor in enumerate(arr_prediction):\n",
        "  if valor == val[index]:\n",
        "    if (valor == 1): acertos_positivos += 1\n",
        "    if (valor == 0): acertos_negativos += 1\n",
        "  else:\n",
        "    if (valor == 1): falsos_positivos += 1\n",
        "    if (valor == 0): falsos_negativos += 1\n",
        "\n",
        "print(\"(Início do Vetor, Fim do Vetor): \", (initial, amount))\n",
        "print(pd.Series(val).value_counts())\n",
        "print()\n",
        "print(\"Matriz de Confusão:\")\n",
        "print(np.array([[acertos_positivos, falsos_negativos],\n",
        "       [falsos_positivos, acertos_negativos]]))\n",
        "print()\n",
        "acertos, erros = acertos_negativos + acertos_positivos, falsos_positivos + falsos_negativos\n",
        "print(\"Quantidade de (acertos, erros, porcentagens): \", (acertos, erros, np.round(acertos / (amount - initial) * 100, 3), np.round(erros / (amount - initial) * 100, 3)))"
      ],
      "execution_count": 114,
      "outputs": [
        {
          "output_type": "stream",
          "text": [
            "(Início do Vetor, Fim do Vetor):  (135, 271)\n",
            "0    93\n",
            "1    43\n",
            "dtype: int64\n",
            "\n",
            "Matriz de Confusão:\n",
            "[[23 20]\n",
            " [40 53]]\n",
            "\n",
            "Quantidade de (acertos, erros, porcentagens):  (76, 60, 55.882, 44.118)\n"
          ],
          "name": "stdout"
        }
      ]
    },
    {
      "cell_type": "code",
      "metadata": {
        "id": "UmMXTnECuRPH"
      },
      "source": [
        "import json\n",
        "\n",
        "with open(\"model_proteinM.json\", \"w\") as json_file:\n",
        "    json.dump(modelito.to_json(), json_file)"
      ],
      "execution_count": 115,
      "outputs": []
    },
    {
      "cell_type": "code",
      "metadata": {
        "id": "DK0HlvLLg4IG"
      },
      "source": [
        ""
      ],
      "execution_count": 115,
      "outputs": []
    },
    {
      "cell_type": "code",
      "metadata": {
        "id": "yH0GiSzySSfj"
      },
      "source": [
        "import tensorflow as tf\n",
        "\n",
        "all_data = dataEmbeddingKeras[\"sequences\"].to_numpy()\n",
        "\n",
        "#for i in range(0, len(dataEmbeddingKeras[\"sequences\"])):\n",
        "#  print(len(dataEmbeddingKeras[\"sequences\"].iloc[i]))\n",
        "\n",
        "embedding_layer = tf.keras.layers.Embedding(len(dict_final.keys())+1, 4)\n",
        "\n",
        "biggest = 0\n",
        "\n",
        "#Pega maior tamanho\n",
        "for index, el in enumerate(all_data):\n",
        "  if (len(el) > biggest):\n",
        "    biggest = len(el)\n"
      ],
      "execution_count": 131,
      "outputs": []
    },
    {
      "cell_type": "code",
      "metadata": {
        "id": "RBW2oUq8L44c",
        "colab": {
          "base_uri": "https://localhost:8080/"
        },
        "outputId": "21bfdc56-74cb-4641-9ada-de8c83a21462"
      },
      "source": [
        "myData = all_data.copy()\n",
        "\n",
        "\n",
        "for i in range(0, myData.shape[0]):\n",
        "  zeros = np.zeros(biggest - np.array(myData[i]).shape[0])\n",
        "  newData = np.append(np.array(myData[i]) + 1, zeros)\n",
        "  myData[i] = newData\n",
        "\n",
        "matriz = np.stack(myData)\n",
        "matriz\n",
        "res = embedding_layer(tf.constant(matriz))\n",
        "print(res)"
      ],
      "execution_count": 132,
      "outputs": [
        {
          "output_type": "stream",
          "text": [
            "tf.Tensor(\n",
            "[[[-0.04500737  0.0026326  -0.02151557  0.02470081]\n",
            "  [ 0.04137465  0.029228   -0.01453761  0.02572713]\n",
            "  [ 0.04137465  0.029228   -0.01453761  0.02572713]\n",
            "  ...\n",
            "  [ 0.00365233  0.02435673 -0.01273453 -0.02377203]\n",
            "  [ 0.00365233  0.02435673 -0.01273453 -0.02377203]\n",
            "  [ 0.00365233  0.02435673 -0.01273453 -0.02377203]]\n",
            "\n",
            " [[-0.04500737  0.0026326  -0.02151557  0.02470081]\n",
            "  [ 0.04137465  0.029228   -0.01453761  0.02572713]\n",
            "  [ 0.04137465  0.029228   -0.01453761  0.02572713]\n",
            "  ...\n",
            "  [ 0.00365233  0.02435673 -0.01273453 -0.02377203]\n",
            "  [ 0.00365233  0.02435673 -0.01273453 -0.02377203]\n",
            "  [ 0.00365233  0.02435673 -0.01273453 -0.02377203]]\n",
            "\n",
            " [[-0.04500737  0.0026326  -0.02151557  0.02470081]\n",
            "  [ 0.04137465  0.029228   -0.01453761  0.02572713]\n",
            "  [ 0.04137465  0.029228   -0.01453761  0.02572713]\n",
            "  ...\n",
            "  [ 0.00365233  0.02435673 -0.01273453 -0.02377203]\n",
            "  [ 0.00365233  0.02435673 -0.01273453 -0.02377203]\n",
            "  [ 0.00365233  0.02435673 -0.01273453 -0.02377203]]\n",
            "\n",
            " ...\n",
            "\n",
            " [[-0.000184   -0.04767857  0.02302988  0.03582675]\n",
            "  [-0.03710481  0.04387187 -0.00616159 -0.02339611]\n",
            "  [-0.04500737  0.0026326  -0.02151557  0.02470081]\n",
            "  ...\n",
            "  [-0.0371402   0.02138331  0.03867953 -0.03397097]\n",
            "  [ 0.04780728 -0.02485526 -0.04045334  0.03596092]\n",
            "  [-0.04157703 -0.0352724  -0.0314908  -0.01345567]]\n",
            "\n",
            " [[-0.000184   -0.04767857  0.02302988  0.03582675]\n",
            "  [-0.03710481  0.04387187 -0.00616159 -0.02339611]\n",
            "  [-0.04500737  0.0026326  -0.02151557  0.02470081]\n",
            "  ...\n",
            "  [-0.0371402   0.02138331  0.03867953 -0.03397097]\n",
            "  [ 0.04780728 -0.02485526 -0.04045334  0.03596092]\n",
            "  [-0.04157703 -0.0352724  -0.0314908  -0.01345567]]\n",
            "\n",
            " [[-0.000184   -0.04767857  0.02302988  0.03582675]\n",
            "  [-0.03710481  0.04387187 -0.00616159 -0.02339611]\n",
            "  [-0.04500737  0.0026326  -0.02151557  0.02470081]\n",
            "  ...\n",
            "  [-0.0371402   0.02138331  0.03867953 -0.03397097]\n",
            "  [ 0.04780728 -0.02485526 -0.04045334  0.03596092]\n",
            "  [-0.04157703 -0.0352724  -0.0314908  -0.01345567]]], shape=(271, 495, 4), dtype=float32)\n"
          ],
          "name": "stdout"
        }
      ]
    },
    {
      "cell_type": "code",
      "metadata": {
        "colab": {
          "base_uri": "https://localhost:8080/"
        },
        "id": "MnUJWXbGrHoW",
        "outputId": "2ecf52b8-7842-4759-ad7b-7444f74f985e"
      },
      "source": [
        "second_model = build_model()"
      ],
      "execution_count": 133,
      "outputs": [
        {
          "output_type": "stream",
          "text": [
            "Model: \"protein\"\n",
            "_________________________________________________________________\n",
            "Layer (type)                 Output Shape              Param #   \n",
            "=================================================================\n",
            "input_3 (InputLayer)         [(None, 70)]              0         \n",
            "_________________________________________________________________\n",
            "dense_4 (Dense)              (None, 8)                 568       \n",
            "_________________________________________________________________\n",
            "dense_5 (Dense)              (None, 1)                 9         \n",
            "=================================================================\n",
            "Total params: 577\n",
            "Trainable params: 577\n",
            "Non-trainable params: 0\n",
            "_________________________________________________________________\n"
          ],
          "name": "stdout"
        }
      ]
    },
    {
      "cell_type": "code",
      "metadata": {
        "id": "wSYaUKg5_lj_"
      },
      "source": [
        "second_model.fit()"
      ],
      "execution_count": null,
      "outputs": []
    }
  ]
}