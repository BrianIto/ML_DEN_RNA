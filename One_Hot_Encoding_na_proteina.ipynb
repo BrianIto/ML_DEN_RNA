{
  "nbformat": 4,
  "nbformat_minor": 0,
  "metadata": {
    "colab": {
      "name": "One Hot Encoding na proteina.ipynb",
      "provenance": [],
      "mount_file_id": "1iMDn3fy0P2NVljWfh5VzyZ2_9XibDcmQ",
      "authorship_tag": "ABX9TyP9C+LPdR0LlkvJHjGKjEzF",
      "include_colab_link": true
    },
    "kernelspec": {
      "display_name": "Python 3",
      "name": "python3"
    },
    "language_info": {
      "name": "python"
    }
  },
  "cells": [
    {
      "cell_type": "markdown",
      "metadata": {
        "id": "view-in-github",
        "colab_type": "text"
      },
      "source": [
        "<a href=\"https://colab.research.google.com/github/BrianIto/ML_DEN_RNA/blob/main/One_Hot_Encoding_na_proteina.ipynb\" target=\"_parent\"><img src=\"https://colab.research.google.com/assets/colab-badge.svg\" alt=\"Open In Colab\"/></a>"
      ]
    },
    {
      "cell_type": "code",
      "metadata": {
        "id": "AgjIxL5K6sFB"
      },
      "source": [
        "import numpy as np\n",
        "import pandas as pd\n",
        "import matplotlib.pyplot as plt\n",
        "\n",
        "ns1 = pd.read_csv('NS4B_protein.csv')"
      ],
      "execution_count": 3,
      "outputs": []
    },
    {
      "cell_type": "code",
      "metadata": {
        "id": "SlngpCc3G9Um"
      },
      "source": [
        ""
      ],
      "execution_count": 3,
      "outputs": []
    },
    {
      "cell_type": "code",
      "metadata": {
        "id": "m6aBWC6c9Z9T",
        "colab": {
          "base_uri": "https://localhost:8080/"
        },
        "outputId": "58b1e999-2f23-40c2-c88a-1f19b17d6605"
      },
      "source": [
        "#Transforma String do vetor do CSV em vetor.\n",
        "sequences = ns1[\"sequences\"].str.replace(\"[\", \"\")\n",
        "sequences = sequences.str.replace(\"]\", \"\")\n",
        "sequences = sequences.str.replace(\"'\", \"\")\n",
        "sequences = np.array(sequences.str.split(\", \"))\n",
        "ns1.sequences = sequences\n",
        "ns1.shape"
      ],
      "execution_count": 4,
      "outputs": [
        {
          "output_type": "execute_result",
          "data": {
            "text/plain": [
              "(126, 4)"
            ]
          },
          "metadata": {
            "tags": []
          },
          "execution_count": 4
        }
      ]
    },
    {
      "cell_type": "code",
      "metadata": {
        "colab": {
          "base_uri": "https://localhost:8080/"
        },
        "id": "8yIhjm-1-B1h",
        "outputId": "ec4b112e-1e38-4847-fc46-a96aec861215"
      },
      "source": [
        "#Severa == 1 e Classica == 0\n",
        "ns1[\"Label\"] = (ns1[\"outcome\"] == \"Severa\").astype(int)\n",
        "\n",
        "train_labels = np.array(ns1[\"Label\"])\n",
        "train_labels"
      ],
      "execution_count": 5,
      "outputs": [
        {
          "output_type": "execute_result",
          "data": {
            "text/plain": [
              "array([0, 0, 0, 0, 0, 0, 0, 0, 1, 0, 0, 1, 0, 1, 1, 0, 0, 1, 0, 1, 0, 0,\n",
              "       1, 1, 0, 0, 0, 0, 0, 0, 0, 0, 0, 0, 0, 0, 0, 0, 0, 1, 1, 0, 0, 0,\n",
              "       0, 1, 0, 0, 0, 0, 0, 0, 0, 0, 0, 0, 1, 0, 1, 1, 1, 0, 1, 0, 1, 0,\n",
              "       1, 0, 1, 0, 0, 1, 0, 1, 1, 1, 0, 0, 0, 0, 0, 0, 0, 0, 0, 0, 0, 1,\n",
              "       1, 1, 0, 0, 1, 0, 1, 0, 1, 0, 1, 0, 0, 1, 1, 1, 1, 0, 1, 0, 0, 0,\n",
              "       0, 0, 0, 0, 0, 0, 0, 0, 0, 1, 0, 0, 1, 0, 0, 0])"
            ]
          },
          "metadata": {
            "tags": []
          },
          "execution_count": 5
        }
      ]
    },
    {
      "cell_type": "code",
      "metadata": {
        "colab": {
          "base_uri": "https://localhost:8080/"
        },
        "id": "rsHJAqfO_8j2",
        "outputId": "23d05d49-9c31-428a-9cb3-f9d4f1d7cc0d"
      },
      "source": [
        "data_dict = {}\n",
        "\n",
        "#Cria Dicionário de Frequência\n",
        "for i, sequence in enumerate(np.array(ns1[\"sequences\"])):\n",
        "  for j, codon in enumerate(sequence):\n",
        "    if (codon in data_dict):\n",
        "      data_dict[codon] += 1\n",
        "    else:\n",
        "      data_dict[codon] = 1\n",
        "\n",
        "#Cria Dicionário de Ranking de Aparição\n",
        "def getMaior(dict):\n",
        "  max, maxKey = -1, ''\n",
        "  for key in dict:\n",
        "    if (max < dict[key]):\n",
        "      max = dict[key]\n",
        "      maxKey = key\n",
        "  return max, maxKey\n",
        "  \n",
        "size = len(data_dict.keys())\n",
        "\n",
        "data_dict_copy = data_dict.copy()\n",
        "dict_final = {}\n",
        "\n",
        "for i in range(0, size):\n",
        "  max, maxKey = getMaior(data_dict_copy)\n",
        "  del data_dict_copy[maxKey]\n",
        "  dict_final[maxKey] = i\n",
        "\n",
        "print(size)\n",
        "dict_final"
      ],
      "execution_count": 6,
      "outputs": [
        {
          "output_type": "stream",
          "text": [
            "72\n"
          ],
          "name": "stdout"
        },
        {
          "output_type": "execute_result",
          "data": {
            "text/plain": [
              "{'--A': 68,\n",
              " '--G': 66,\n",
              " '-AC': 70,\n",
              " '-AU': 64,\n",
              " '-GG': 71,\n",
              " '-UU': 69,\n",
              " 'AAA': 2,\n",
              " 'AAC': 3,\n",
              " 'AAG': 44,\n",
              " 'AAU': 10,\n",
              " 'ACA': 6,\n",
              " 'ACC': 25,\n",
              " 'ACG': 55,\n",
              " 'ACU': 41,\n",
              " 'AGA': 18,\n",
              " 'AGC': 1,\n",
              " 'AGG': 16,\n",
              " 'AGU': 14,\n",
              " 'AUA': 34,\n",
              " 'AUC': 53,\n",
              " 'AUG': 11,\n",
              " 'AUU': 24,\n",
              " 'C--': 63,\n",
              " 'CAA': 17,\n",
              " 'CAC': 23,\n",
              " 'CAG': 32,\n",
              " 'CAU': 0,\n",
              " 'CCA': 9,\n",
              " 'CCC': 52,\n",
              " 'CCG': 62,\n",
              " 'CCU': 12,\n",
              " 'CGA': 59,\n",
              " 'CGC': 60,\n",
              " 'CGG': 47,\n",
              " 'CGU': 58,\n",
              " 'CUA': 37,\n",
              " 'CUC': 42,\n",
              " 'CUG': 33,\n",
              " 'CUU': 43,\n",
              " 'GAA': 5,\n",
              " 'GAC': 20,\n",
              " 'GAG': 36,\n",
              " 'GAU': 19,\n",
              " 'GCA': 29,\n",
              " 'GCC': 31,\n",
              " 'GCG': 61,\n",
              " 'GCU': 15,\n",
              " 'GGA': 4,\n",
              " 'GGC': 21,\n",
              " 'GGG': 27,\n",
              " 'GGU': 51,\n",
              " 'GUA': 56,\n",
              " 'GUC': 50,\n",
              " 'GUG': 40,\n",
              " 'GUU': 30,\n",
              " 'U--': 67,\n",
              " 'UAA': 57,\n",
              " 'UAC': 46,\n",
              " 'UAG': 48,\n",
              " 'UAU': 38,\n",
              " 'UCA': 35,\n",
              " 'UCC': 39,\n",
              " 'UCG': 65,\n",
              " 'UCU': 8,\n",
              " 'UGA': 13,\n",
              " 'UGC': 28,\n",
              " 'UGG': 7,\n",
              " 'UGU': 49,\n",
              " 'UUA': 45,\n",
              " 'UUC': 54,\n",
              " 'UUG': 22,\n",
              " 'UUU': 26}"
            ]
          },
          "metadata": {
            "tags": []
          },
          "execution_count": 6
        }
      ]
    },
    {
      "cell_type": "code",
      "metadata": {
        "id": "2MlfHjAyDGtc"
      },
      "source": [
        "for i in range(0, ns1[\"sequences\"].shape[0]):\n",
        "  for j in range(0, len(ns1[\"sequences\"].loc[i])):\n",
        "    ns1[\"sequences\"].loc[i][j] = dict_final[ns1[\"sequences\"].loc[i][j]]"
      ],
      "execution_count": 7,
      "outputs": []
    },
    {
      "cell_type": "code",
      "metadata": {
        "colab": {
          "base_uri": "https://localhost:8080/",
          "height": 419
        },
        "id": "TqiH57CMP8Vk",
        "outputId": "2d38b54f-1d76-4dcd-a135-9b5213f337e7"
      },
      "source": [
        "ns1"
      ],
      "execution_count": null,
      "outputs": [
        {
          "output_type": "execute_result",
          "data": {
            "text/html": [
              "<div>\n",
              "<style scoped>\n",
              "    .dataframe tbody tr th:only-of-type {\n",
              "        vertical-align: middle;\n",
              "    }\n",
              "\n",
              "    .dataframe tbody tr th {\n",
              "        vertical-align: top;\n",
              "    }\n",
              "\n",
              "    .dataframe thead th {\n",
              "        text-align: right;\n",
              "    }\n",
              "</style>\n",
              "<table border=\"1\" class=\"dataframe\">\n",
              "  <thead>\n",
              "    <tr style=\"text-align: right;\">\n",
              "      <th></th>\n",
              "      <th>sequences</th>\n",
              "      <th>serotype</th>\n",
              "      <th>outcome</th>\n",
              "      <th>outcome_bin</th>\n",
              "      <th>Label</th>\n",
              "    </tr>\n",
              "  </thead>\n",
              "  <tbody>\n",
              "    <tr>\n",
              "      <th>0</th>\n",
              "      <td>[3, 5, 11, 4, 22, 22, 5, 41, 6, 2, 18, 19, 45,...</td>\n",
              "      <td>3</td>\n",
              "      <td>Classica</td>\n",
              "      <td>Classica</td>\n",
              "      <td>0</td>\n",
              "    </tr>\n",
              "    <tr>\n",
              "      <th>1</th>\n",
              "      <td>[3, 5, 11, 4, 22, 22, 5, 41, 6, 2, 18, 19, 45,...</td>\n",
              "      <td>3</td>\n",
              "      <td>Classica</td>\n",
              "      <td>Classica</td>\n",
              "      <td>0</td>\n",
              "    </tr>\n",
              "    <tr>\n",
              "      <th>2</th>\n",
              "      <td>[10, 5, 11, 4, 37, 22, 5, 41, 6, 44, 18, 19, 4...</td>\n",
              "      <td>3</td>\n",
              "      <td>Classica</td>\n",
              "      <td>Classica</td>\n",
              "      <td>0</td>\n",
              "    </tr>\n",
              "    <tr>\n",
              "      <th>3</th>\n",
              "      <td>[10, 5, 11, 4, 33, 33, 5, 25, 6, 44, 18, 20, 4...</td>\n",
              "      <td>3</td>\n",
              "      <td>Classica</td>\n",
              "      <td>Classica</td>\n",
              "      <td>0</td>\n",
              "    </tr>\n",
              "    <tr>\n",
              "      <th>4</th>\n",
              "      <td>[10, 5, 11, 4, 33, 33, 5, 41, 6, 44, 18, 19, 4...</td>\n",
              "      <td>3</td>\n",
              "      <td>Classica</td>\n",
              "      <td>Classica</td>\n",
              "      <td>0</td>\n",
              "    </tr>\n",
              "    <tr>\n",
              "      <th>...</th>\n",
              "      <td>...</td>\n",
              "      <td>...</td>\n",
              "      <td>...</td>\n",
              "      <td>...</td>\n",
              "      <td>...</td>\n",
              "    </tr>\n",
              "    <tr>\n",
              "      <th>121</th>\n",
              "      <td>[13, 38, 13, 32, 7, 32, 9, 11, 18, 7, 19, 38, ...</td>\n",
              "      <td>1</td>\n",
              "      <td>Classica</td>\n",
              "      <td>Classica</td>\n",
              "      <td>0</td>\n",
              "    </tr>\n",
              "    <tr>\n",
              "      <th>122</th>\n",
              "      <td>[13, 38, 13, 32, 7, 32, 9, 11, 18, 7, 19, 38, ...</td>\n",
              "      <td>1</td>\n",
              "      <td>Severa</td>\n",
              "      <td>Severa</td>\n",
              "      <td>1</td>\n",
              "    </tr>\n",
              "    <tr>\n",
              "      <th>123</th>\n",
              "      <td>[13, 38, 13, 32, 7, 32, 9, 11, 18, 7, 19, 38, ...</td>\n",
              "      <td>1</td>\n",
              "      <td>Classica</td>\n",
              "      <td>Classica</td>\n",
              "      <td>0</td>\n",
              "    </tr>\n",
              "    <tr>\n",
              "      <th>124</th>\n",
              "      <td>[13, 38, 13, 32, 7, 32, 9, 11, 18, 7, 19, 49, ...</td>\n",
              "      <td>1</td>\n",
              "      <td>Classica</td>\n",
              "      <td>Classica</td>\n",
              "      <td>0</td>\n",
              "    </tr>\n",
              "    <tr>\n",
              "      <th>125</th>\n",
              "      <td>[13, 38, 13, 32, 7, 32, 9, 11, 18, 7, 19, 49, ...</td>\n",
              "      <td>1</td>\n",
              "      <td>Classica</td>\n",
              "      <td>Classica</td>\n",
              "      <td>0</td>\n",
              "    </tr>\n",
              "  </tbody>\n",
              "</table>\n",
              "<p>126 rows × 5 columns</p>\n",
              "</div>"
            ],
            "text/plain": [
              "                                             sequences  ...  Label\n",
              "0    [3, 5, 11, 4, 22, 22, 5, 41, 6, 2, 18, 19, 45,...  ...      0\n",
              "1    [3, 5, 11, 4, 22, 22, 5, 41, 6, 2, 18, 19, 45,...  ...      0\n",
              "2    [10, 5, 11, 4, 37, 22, 5, 41, 6, 44, 18, 19, 4...  ...      0\n",
              "3    [10, 5, 11, 4, 33, 33, 5, 25, 6, 44, 18, 20, 4...  ...      0\n",
              "4    [10, 5, 11, 4, 33, 33, 5, 41, 6, 44, 18, 19, 4...  ...      0\n",
              "..                                                 ...  ...    ...\n",
              "121  [13, 38, 13, 32, 7, 32, 9, 11, 18, 7, 19, 38, ...  ...      0\n",
              "122  [13, 38, 13, 32, 7, 32, 9, 11, 18, 7, 19, 38, ...  ...      1\n",
              "123  [13, 38, 13, 32, 7, 32, 9, 11, 18, 7, 19, 38, ...  ...      0\n",
              "124  [13, 38, 13, 32, 7, 32, 9, 11, 18, 7, 19, 49, ...  ...      0\n",
              "125  [13, 38, 13, 32, 7, 32, 9, 11, 18, 7, 19, 49, ...  ...      0\n",
              "\n",
              "[126 rows x 5 columns]"
            ]
          },
          "metadata": {
            "tags": []
          },
          "execution_count": 61
        }
      ]
    },
    {
      "cell_type": "code",
      "metadata": {
        "colab": {
          "base_uri": "https://localhost:8080/",
          "height": 419
        },
        "id": "BafdpjGRSGYl",
        "outputId": "99542655-409c-460d-9f7c-b9f9030c7851"
      },
      "source": [
        "arr = np.array(ns1.sequences)\n",
        "\n",
        "matriz = []\n",
        "for i, lista in enumerate(arr):\n",
        "  matriz_dispersao = np.zeros(size)\n",
        "  for j, elem in enumerate(lista):\n",
        "    matriz_dispersao[elem] += 1\n",
        "  matriz.append(matriz_dispersao.astype(int))\n",
        "\n",
        "train_data = np.array(matriz)\n",
        "train_data.shape\n",
        "ns1[\"matriz_disp\"] = matriz\n",
        "ns1"
      ],
      "execution_count": 13,
      "outputs": [
        {
          "output_type": "execute_result",
          "data": {
            "text/html": [
              "<div>\n",
              "<style scoped>\n",
              "    .dataframe tbody tr th:only-of-type {\n",
              "        vertical-align: middle;\n",
              "    }\n",
              "\n",
              "    .dataframe tbody tr th {\n",
              "        vertical-align: top;\n",
              "    }\n",
              "\n",
              "    .dataframe thead th {\n",
              "        text-align: right;\n",
              "    }\n",
              "</style>\n",
              "<table border=\"1\" class=\"dataframe\">\n",
              "  <thead>\n",
              "    <tr style=\"text-align: right;\">\n",
              "      <th></th>\n",
              "      <th>sequences</th>\n",
              "      <th>serotype</th>\n",
              "      <th>outcome</th>\n",
              "      <th>outcome_bin</th>\n",
              "      <th>Label</th>\n",
              "      <th>matriz_disp</th>\n",
              "    </tr>\n",
              "  </thead>\n",
              "  <tbody>\n",
              "    <tr>\n",
              "      <th>0</th>\n",
              "      <td>[3, 5, 11, 4, 22, 22, 5, 41, 6, 2, 18, 19, 45,...</td>\n",
              "      <td>3</td>\n",
              "      <td>Classica</td>\n",
              "      <td>Classica</td>\n",
              "      <td>0</td>\n",
              "      <td>[2, 2, 8, 5, 12, 6, 15, 5, 5, 9, 3, 11, 1, 0, ...</td>\n",
              "    </tr>\n",
              "    <tr>\n",
              "      <th>1</th>\n",
              "      <td>[3, 5, 11, 4, 22, 22, 5, 41, 6, 2, 18, 19, 45,...</td>\n",
              "      <td>3</td>\n",
              "      <td>Classica</td>\n",
              "      <td>Classica</td>\n",
              "      <td>0</td>\n",
              "      <td>[2, 2, 8, 5, 12, 6, 14, 5, 5, 9, 3, 11, 2, 0, ...</td>\n",
              "    </tr>\n",
              "    <tr>\n",
              "      <th>2</th>\n",
              "      <td>[10, 5, 11, 4, 37, 22, 5, 41, 6, 44, 18, 19, 4...</td>\n",
              "      <td>3</td>\n",
              "      <td>Classica</td>\n",
              "      <td>Classica</td>\n",
              "      <td>0</td>\n",
              "      <td>[2, 2, 7, 4, 12, 7, 15, 5, 3, 10, 4, 11, 2, 0,...</td>\n",
              "    </tr>\n",
              "    <tr>\n",
              "      <th>3</th>\n",
              "      <td>[10, 5, 11, 4, 33, 33, 5, 25, 6, 44, 18, 20, 4...</td>\n",
              "      <td>3</td>\n",
              "      <td>Classica</td>\n",
              "      <td>Classica</td>\n",
              "      <td>0</td>\n",
              "      <td>[2, 2, 8, 4, 11, 6, 14, 5, 4, 10, 4, 11, 2, 0,...</td>\n",
              "    </tr>\n",
              "    <tr>\n",
              "      <th>4</th>\n",
              "      <td>[10, 5, 11, 4, 33, 33, 5, 41, 6, 44, 18, 19, 4...</td>\n",
              "      <td>3</td>\n",
              "      <td>Classica</td>\n",
              "      <td>Classica</td>\n",
              "      <td>0</td>\n",
              "      <td>[2, 2, 7, 3, 11, 6, 14, 5, 4, 10, 5, 10, 2, 0,...</td>\n",
              "    </tr>\n",
              "    <tr>\n",
              "      <th>...</th>\n",
              "      <td>...</td>\n",
              "      <td>...</td>\n",
              "      <td>...</td>\n",
              "      <td>...</td>\n",
              "      <td>...</td>\n",
              "      <td>...</td>\n",
              "    </tr>\n",
              "    <tr>\n",
              "      <th>121</th>\n",
              "      <td>[13, 38, 13, 32, 7, 32, 9, 11, 18, 7, 19, 38, ...</td>\n",
              "      <td>1</td>\n",
              "      <td>Classica</td>\n",
              "      <td>Classica</td>\n",
              "      <td>0</td>\n",
              "      <td>[3, 1, 8, 1, 6, 2, 5, 14, 2, 12, 3, 4, 4, 14, ...</td>\n",
              "    </tr>\n",
              "    <tr>\n",
              "      <th>122</th>\n",
              "      <td>[13, 38, 13, 32, 7, 32, 9, 11, 18, 7, 19, 38, ...</td>\n",
              "      <td>1</td>\n",
              "      <td>Severa</td>\n",
              "      <td>Severa</td>\n",
              "      <td>1</td>\n",
              "      <td>[3, 1, 8, 1, 7, 2, 5, 13, 3, 12, 3, 5, 4, 14, ...</td>\n",
              "    </tr>\n",
              "    <tr>\n",
              "      <th>123</th>\n",
              "      <td>[13, 38, 13, 32, 7, 32, 9, 11, 18, 7, 19, 38, ...</td>\n",
              "      <td>1</td>\n",
              "      <td>Classica</td>\n",
              "      <td>Classica</td>\n",
              "      <td>0</td>\n",
              "      <td>[3, 1, 8, 1, 6, 2, 5, 13, 3, 12, 3, 5, 4, 14, ...</td>\n",
              "    </tr>\n",
              "    <tr>\n",
              "      <th>124</th>\n",
              "      <td>[13, 38, 13, 32, 7, 32, 9, 11, 18, 7, 19, 49, ...</td>\n",
              "      <td>1</td>\n",
              "      <td>Classica</td>\n",
              "      <td>Classica</td>\n",
              "      <td>0</td>\n",
              "      <td>[4, 1, 8, 1, 6, 3, 6, 13, 2, 10, 3, 6, 4, 13, ...</td>\n",
              "    </tr>\n",
              "    <tr>\n",
              "      <th>125</th>\n",
              "      <td>[13, 38, 13, 32, 7, 32, 9, 11, 18, 7, 19, 49, ...</td>\n",
              "      <td>1</td>\n",
              "      <td>Classica</td>\n",
              "      <td>Classica</td>\n",
              "      <td>0</td>\n",
              "      <td>[4, 1, 9, 1, 6, 3, 6, 15, 2, 10, 2, 6, 4, 13, ...</td>\n",
              "    </tr>\n",
              "  </tbody>\n",
              "</table>\n",
              "<p>126 rows × 6 columns</p>\n",
              "</div>"
            ],
            "text/plain": [
              "                                             sequences  ...                                        matriz_disp\n",
              "0    [3, 5, 11, 4, 22, 22, 5, 41, 6, 2, 18, 19, 45,...  ...  [2, 2, 8, 5, 12, 6, 15, 5, 5, 9, 3, 11, 1, 0, ...\n",
              "1    [3, 5, 11, 4, 22, 22, 5, 41, 6, 2, 18, 19, 45,...  ...  [2, 2, 8, 5, 12, 6, 14, 5, 5, 9, 3, 11, 2, 0, ...\n",
              "2    [10, 5, 11, 4, 37, 22, 5, 41, 6, 44, 18, 19, 4...  ...  [2, 2, 7, 4, 12, 7, 15, 5, 3, 10, 4, 11, 2, 0,...\n",
              "3    [10, 5, 11, 4, 33, 33, 5, 25, 6, 44, 18, 20, 4...  ...  [2, 2, 8, 4, 11, 6, 14, 5, 4, 10, 4, 11, 2, 0,...\n",
              "4    [10, 5, 11, 4, 33, 33, 5, 41, 6, 44, 18, 19, 4...  ...  [2, 2, 7, 3, 11, 6, 14, 5, 4, 10, 5, 10, 2, 0,...\n",
              "..                                                 ...  ...                                                ...\n",
              "121  [13, 38, 13, 32, 7, 32, 9, 11, 18, 7, 19, 38, ...  ...  [3, 1, 8, 1, 6, 2, 5, 14, 2, 12, 3, 4, 4, 14, ...\n",
              "122  [13, 38, 13, 32, 7, 32, 9, 11, 18, 7, 19, 38, ...  ...  [3, 1, 8, 1, 7, 2, 5, 13, 3, 12, 3, 5, 4, 14, ...\n",
              "123  [13, 38, 13, 32, 7, 32, 9, 11, 18, 7, 19, 38, ...  ...  [3, 1, 8, 1, 6, 2, 5, 13, 3, 12, 3, 5, 4, 14, ...\n",
              "124  [13, 38, 13, 32, 7, 32, 9, 11, 18, 7, 19, 49, ...  ...  [4, 1, 8, 1, 6, 3, 6, 13, 2, 10, 3, 6, 4, 13, ...\n",
              "125  [13, 38, 13, 32, 7, 32, 9, 11, 18, 7, 19, 49, ...  ...  [4, 1, 9, 1, 6, 3, 6, 15, 2, 10, 2, 6, 4, 13, ...\n",
              "\n",
              "[126 rows x 6 columns]"
            ]
          },
          "metadata": {
            "tags": []
          },
          "execution_count": 13
        }
      ]
    },
    {
      "cell_type": "code",
      "metadata": {
        "colab": {
          "base_uri": "https://localhost:8080/"
        },
        "id": "wABYUs1lfbIQ",
        "outputId": "f5b9f9a0-f463-421e-cb20-16d174df0dbf"
      },
      "source": [
        "import tensorflow as tf\n",
        "\n",
        "print(train_data.shape)\n",
        "#tf.constant(train_data)\n",
        "train_data\n",
        "\n",
        "series = ns1[\"matriz_disp\"].copy()\n",
        "slist = series.to_list()\n",
        "train_data = np.array(slist)"
      ],
      "execution_count": 14,
      "outputs": [
        {
          "output_type": "stream",
          "text": [
            "(126, 72)\n"
          ],
          "name": "stdout"
        }
      ]
    },
    {
      "cell_type": "code",
      "metadata": {
        "colab": {
          "base_uri": "https://localhost:8080/",
          "height": 265
        },
        "id": "fiPHVd45bR29",
        "outputId": "5ab5cc0a-ad77-46c5-98cb-80e9724c07d9"
      },
      "source": [
        "arr = np.array(ns1[\"matriz_disp\"].to_list())\n",
        "\n",
        "totalCodons = arr.shape[1]\n",
        "totalSequences = arr.shape[0]\n",
        "\n",
        "x = np.zeros(totalSequences);\n",
        "y = np.zeros(totalSequences);\n",
        "\n",
        "for index, sequence in enumerate(arr):\n",
        "  if (index + 1 < totalSequences):\n",
        "    differenceMatrix = np.zeros(totalSequences)\n",
        "    counter = 0\n",
        "    for i, codon in enumerate(sequence):\n",
        "      if (i + 1  < totalCodons):\n",
        "        if (codon != arr[index + 1][i + 1]):\n",
        "          differenceMatrix[i] += 1\n",
        "          counter += 1\n",
        "    #print(\"Posição: \" + str(index) + \", Taxa de Igualdade: \" + str(100 - (counter / totalSequences)))\n",
        "    x[index] = index;\n",
        "    y[index] = 100 - (counter / totalSequences)\n",
        "  \n",
        "plt.scatter(x, y)\n",
        "plt.show()"
      ],
      "execution_count": 15,
      "outputs": [
        {
          "output_type": "display_data",
          "data": {
            "image/png": "[encoded data removed]",
            "text/plain": [
              "<Figure size 432x288 with 1 Axes>"
            ]
          },
          "metadata": {
            "tags": [],
            "needs_background": "light"
          }
        }
      ]
    },
    {
      "cell_type": "code",
      "metadata": {
        "colab": {
          "base_uri": "https://localhost:8080/"
        },
        "id": "qpvxaSuzgLAE",
        "outputId": "11b57b31-5fa5-4be9-d0ef-fa7c0e4e9c40"
      },
      "source": [
        "from keras import models, Model\n",
        "from keras import layers \n",
        "\n",
        "def build_model():\n",
        "    inputs = layers.Input(shape=(size,)) # placeholder\n",
        "    x = layers.Dense(32, activation='relu')(inputs)\n",
        "    out = layers.Dense(1, activation='sigmoid')( x )\n",
        "\n",
        "    model = Model(inputs=[inputs], outputs=[out], name=\"mnits_model\")\n",
        "\n",
        "    model.summary()\n",
        "\n",
        "    model.compile(optimizer='rmsprop',\n",
        "                loss='binary_crossentropy',\n",
        "                metrics=['accuracy'])\n",
        "    return model\n",
        "  \n",
        "modelito = build_model()\n",
        "\n",
        "halfShape = int(np.floor(( ns1.shape[0] /2 )))\n",
        "\n",
        "history = modelito.fit(train_data[:halfShape], train_labels[:halfShape], epochs=20, batch_size=512, \n",
        "                      validation_data=(train_data[halfShape: ns1.shape[0]], train_labels[ halfShape: ns1.shape[0] ]))"
      ],
      "execution_count": 25,
      "outputs": [
        {
          "output_type": "stream",
          "text": [
            "Model: \"mnits_model\"\n",
            "_________________________________________________________________\n",
            "Layer (type)                 Output Shape              Param #   \n",
            "=================================================================\n",
            "input_8 (InputLayer)         [(None, 72)]              0         \n",
            "_________________________________________________________________\n",
            "dense_14 (Dense)             (None, 32)                2336      \n",
            "_________________________________________________________________\n",
            "dense_15 (Dense)             (None, 1)                 33        \n",
            "=================================================================\n",
            "Total params: 2,369\n",
            "Trainable params: 2,369\n",
            "Non-trainable params: 0\n",
            "_________________________________________________________________\n",
            "Epoch 1/20\n",
            "1/1 [==============================] - 1s 1s/step - loss: 0.8278 - accuracy: 0.4762 - val_loss: 0.7800 - val_accuracy: 0.6667\n",
            "Epoch 2/20\n",
            "1/1 [==============================] - 0s 25ms/step - loss: 0.6500 - accuracy: 0.7460 - val_loss: 0.6759 - val_accuracy: 0.6667\n",
            "Epoch 3/20\n",
            "1/1 [==============================] - 0s 26ms/step - loss: 0.5899 - accuracy: 0.7778 - val_loss: 0.6790 - val_accuracy: 0.6667\n",
            "Epoch 4/20\n",
            "1/1 [==============================] - 0s 26ms/step - loss: 0.5535 - accuracy: 0.8095 - val_loss: 0.6530 - val_accuracy: 0.6984\n",
            "Epoch 5/20\n",
            "1/1 [==============================] - 0s 29ms/step - loss: 0.5324 - accuracy: 0.7937 - val_loss: 0.6684 - val_accuracy: 0.6667\n",
            "Epoch 6/20\n",
            "1/1 [==============================] - 0s 26ms/step - loss: 0.5203 - accuracy: 0.7778 - val_loss: 0.6594 - val_accuracy: 0.6508\n",
            "Epoch 7/20\n",
            "1/1 [==============================] - 0s 24ms/step - loss: 0.5091 - accuracy: 0.7937 - val_loss: 0.6755 - val_accuracy: 0.6667\n",
            "Epoch 8/20\n",
            "1/1 [==============================] - 0s 25ms/step - loss: 0.5005 - accuracy: 0.7778 - val_loss: 0.6560 - val_accuracy: 0.6667\n",
            "Epoch 9/20\n",
            "1/1 [==============================] - 0s 26ms/step - loss: 0.4935 - accuracy: 0.7937 - val_loss: 0.6688 - val_accuracy: 0.6667\n",
            "Epoch 10/20\n",
            "1/1 [==============================] - 0s 28ms/step - loss: 0.4887 - accuracy: 0.7619 - val_loss: 0.6521 - val_accuracy: 0.6667\n",
            "Epoch 11/20\n",
            "1/1 [==============================] - 0s 31ms/step - loss: 0.4824 - accuracy: 0.8095 - val_loss: 0.6642 - val_accuracy: 0.6825\n",
            "Epoch 12/20\n",
            "1/1 [==============================] - 0s 31ms/step - loss: 0.4791 - accuracy: 0.7619 - val_loss: 0.6628 - val_accuracy: 0.6825\n",
            "Epoch 13/20\n",
            "1/1 [==============================] - 0s 29ms/step - loss: 0.4752 - accuracy: 0.8095 - val_loss: 0.6659 - val_accuracy: 0.6825\n",
            "Epoch 14/20\n",
            "1/1 [==============================] - 0s 27ms/step - loss: 0.4704 - accuracy: 0.7619 - val_loss: 0.6563 - val_accuracy: 0.6667\n",
            "Epoch 15/20\n",
            "1/1 [==============================] - 0s 34ms/step - loss: 0.4660 - accuracy: 0.8095 - val_loss: 0.6636 - val_accuracy: 0.6825\n",
            "Epoch 16/20\n",
            "1/1 [==============================] - 0s 28ms/step - loss: 0.4628 - accuracy: 0.7619 - val_loss: 0.6611 - val_accuracy: 0.6667\n",
            "Epoch 17/20\n",
            "1/1 [==============================] - 0s 28ms/step - loss: 0.4600 - accuracy: 0.8254 - val_loss: 0.6680 - val_accuracy: 0.6667\n",
            "Epoch 18/20\n",
            "1/1 [==============================] - 0s 25ms/step - loss: 0.4581 - accuracy: 0.7619 - val_loss: 0.6606 - val_accuracy: 0.6825\n",
            "Epoch 19/20\n",
            "1/1 [==============================] - 0s 25ms/step - loss: 0.4559 - accuracy: 0.8571 - val_loss: 0.6653 - val_accuracy: 0.6825\n",
            "Epoch 20/20\n",
            "1/1 [==============================] - 0s 24ms/step - loss: 0.4533 - accuracy: 0.7619 - val_loss: 0.6643 - val_accuracy: 0.6825\n"
          ],
          "name": "stdout"
        }
      ]
    },
    {
      "cell_type": "code",
      "metadata": {
        "id": "pFn5PzI9q1qt",
        "colab": {
          "base_uri": "https://localhost:8080/"
        },
        "outputId": "c8e3a6d4-f8f2-4fbf-e582-e79945829e36"
      },
      "source": [
        "print(train_data)"
      ],
      "execution_count": 19,
      "outputs": [
        {
          "output_type": "stream",
          "text": [
            "[[2 2 8 ... 0 0 0]\n",
            " [2 2 8 ... 0 0 0]\n",
            " [2 2 7 ... 0 0 0]\n",
            " ...\n",
            " [3 1 8 ... 0 0 0]\n",
            " [4 1 8 ... 0 0 0]\n",
            " [4 1 9 ... 0 0 0]]\n"
          ],
          "name": "stdout"
        }
      ]
    },
    {
      "cell_type": "code",
      "metadata": {
        "colab": {
          "base_uri": "https://localhost:8080/"
        },
        "id": "aajGrrtaHdcL",
        "outputId": "0705f192-5ce5-4b6f-c95b-84f147b5ed6c"
      },
      "source": [
        "print(train_labels)"
      ],
      "execution_count": 20,
      "outputs": [
        {
          "output_type": "stream",
          "text": [
            "[0 0 0 0 0 0 0 0 1 0 0 1 0 1 1 0 0 1 0 1 0 0 1 1 0 0 0 0 0 0 0 0 0 0 0 0 0\n",
            " 0 0 1 1 0 0 0 0 1 0 0 0 0 0 0 0 0 0 0 1 0 1 1 1 0 1 0 1 0 1 0 1 0 0 1 0 1\n",
            " 1 1 0 0 0 0 0 0 0 0 0 0 0 1 1 1 0 0 1 0 1 0 1 0 1 0 0 1 1 1 1 0 1 0 0 0 0\n",
            " 0 0 0 0 0 0 0 0 1 0 0 1 0 0 0]\n"
          ],
          "name": "stdout"
        }
      ]
    },
    {
      "cell_type": "code",
      "metadata": {
        "id": "8k__u4j2Htzt"
      },
      "source": [
        ""
      ],
      "execution_count": null,
      "outputs": []
    }
  ]
}