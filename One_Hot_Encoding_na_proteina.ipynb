{
  "nbformat": 4,
  "nbformat_minor": 0,
  "metadata": {
    "colab": {
      "name": "One Hot Encoding na proteina.ipynb",
      "provenance": [],
      "collapsed_sections": [],
      "mount_file_id": "1iMDn3fy0P2NVljWfh5VzyZ2_9XibDcmQ",
      "authorship_tag": "ABX9TyOhp65A6ElpWF4fUfdYRtGs",
      "include_colab_link": true
    },
    "kernelspec": {
      "display_name": "Python 3",
      "name": "python3"
    },
    "language_info": {
      "name": "python"
    }
  },
  "cells": [
    {
      "cell_type": "markdown",
      "metadata": {
        "id": "view-in-github",
        "colab_type": "text"
      },
      "source": [
        "<a href=\"https://colab.research.google.com/github/BrianIto/ML_DEN_RNA/blob/main/One_Hot_Encoding_na_proteina.ipynb\" target=\"_parent\"><img src=\"https://colab.research.google.com/assets/colab-badge.svg\" alt=\"Open In Colab\"/></a>"
      ]
    },
    {
      "cell_type": "code",
      "metadata": {
        "id": "AgjIxL5K6sFB"
      },
      "source": [
        "import numpy as np\n",
        "import pandas as pd\n",
        "import matplotlib.pyplot as plt\n",
        "\n",
        "ns1 = pd.read_csv('E_protein.csv')"
      ],
      "execution_count": 1,
      "outputs": []
    },
    {
      "cell_type": "code",
      "metadata": {
        "id": "m6aBWC6c9Z9T",
        "colab": {
          "base_uri": "https://localhost:8080/"
        },
        "outputId": "2a87045d-f2b6-4f8d-8858-530670ae627d"
      },
      "source": [
        "#Transforma String do vetor do CSV em vetor.\n",
        "sequences = ns1[\"sequences\"].str.replace(\"[\", \"\")\n",
        "sequences = sequences.str.replace(\"]\", \"\")\n",
        "sequences = sequences.str.replace(\"'\", \"\")\n",
        "sequences = np.array(sequences.str.split(\", \"))\n",
        "ns1.sequences = sequences\n",
        "ns1.shape"
      ],
      "execution_count": 2,
      "outputs": [
        {
          "output_type": "execute_result",
          "data": {
            "text/plain": [
              "(271, 4)"
            ]
          },
          "metadata": {
            "tags": []
          },
          "execution_count": 2
        }
      ]
    },
    {
      "cell_type": "code",
      "metadata": {
        "id": "8yIhjm-1-B1h",
        "colab": {
          "base_uri": "https://localhost:8080/"
        },
        "outputId": "aa042a8b-d014-4c65-9c48-dacf9c153504"
      },
      "source": [
        "#Severa == 1 e Classica == 0\n",
        "ns1[\"Label\"] = (ns1[\"outcome\"] == \"Severa\").astype(int)\n",
        "\n",
        "train_labels = np.array(ns1[\"Label\"])\n",
        "train_labels"
      ],
      "execution_count": 3,
      "outputs": [
        {
          "output_type": "execute_result",
          "data": {
            "text/plain": [
              "array([1, 1, 1, 0, 0, 0, 0, 0, 0, 0, 0, 0, 0, 0, 0, 0, 0, 0, 0, 0, 0, 0,\n",
              "       0, 0, 0, 0, 0, 0, 1, 1, 1, 1, 1, 1, 0, 1, 0, 0, 0, 0, 0, 0, 0, 0,\n",
              "       0, 0, 0, 0, 0, 0, 1, 0, 0, 0, 0, 0, 0, 0, 0, 0, 1, 0, 0, 0, 0, 0,\n",
              "       0, 0, 0, 0, 0, 0, 0, 0, 0, 0, 0, 1, 1, 0, 1, 1, 1, 1, 1, 0, 1, 1,\n",
              "       0, 1, 1, 0, 1, 0, 0, 0, 0, 0, 0, 1, 0, 0, 1, 1, 0, 0, 0, 0, 0, 0,\n",
              "       0, 0, 0, 0, 0, 1, 0, 1, 1, 1, 0, 0, 0, 0, 1, 0, 0, 1, 1, 0, 1, 1,\n",
              "       0, 1, 1, 0, 1, 1, 1, 1, 1, 1, 1, 1, 0, 1, 0, 0, 0, 0, 0, 1, 0, 0,\n",
              "       0, 0, 0, 0, 1, 0, 0, 0, 0, 0, 0, 1, 1, 0, 1, 1, 1, 0, 0, 1, 1, 0,\n",
              "       1, 0, 0, 1, 1, 1, 1, 0, 1, 1, 0, 1, 0, 1, 1, 1, 1, 0, 0, 0, 1, 1,\n",
              "       0, 0, 0, 0, 0, 1, 0, 0, 0, 1, 0, 0, 0, 0, 0, 0, 0, 0, 0, 0, 0, 0,\n",
              "       0, 0, 0, 0, 1, 0, 1, 0, 0, 0, 0, 0, 1, 0, 0, 1, 0, 0, 0, 0, 0, 0,\n",
              "       0, 1, 0, 0, 1, 0, 0, 0, 0, 0, 0, 0, 0, 0, 0, 0, 1, 1, 0, 0, 0, 0,\n",
              "       1, 0, 0, 0, 0, 0, 0])"
            ]
          },
          "metadata": {
            "tags": []
          },
          "execution_count": 3
        }
      ]
    },
    {
      "cell_type": "code",
      "metadata": {
        "id": "rsHJAqfO_8j2"
      },
      "source": [
        "data_dict = {}\n",
        "\n",
        "#Cria Dicionário de Frequência\n",
        "for i, sequence in enumerate(np.array(ns1[\"sequences\"])):\n",
        "  for j, codon in enumerate(sequence):\n",
        "    if (codon in data_dict):\n",
        "      data_dict[codon] += 1\n",
        "    else:\n",
        "      data_dict[codon] = 1\n",
        "\n",
        "#Cria Dicionário de Ranking de Aparição\n",
        "def getMaior(dict):\n",
        "  max, maxKey = -1, ''\n",
        "  for key in dict:\n",
        "    if (max < dict[key]):\n",
        "      max = dict[key]\n",
        "      maxKey = key\n",
        "  return max, maxKey\n",
        "  \n",
        "size = len(data_dict.keys())\n",
        "\n",
        "data_dict_copy = data_dict.copy()\n",
        "dict_final = {}\n",
        "\n",
        "for i in range(0, size):\n",
        "  max, maxKey = getMaior(data_dict_copy)\n",
        "  del data_dict_copy[maxKey]\n",
        "  dict_final[maxKey] = i"
      ],
      "execution_count": 4,
      "outputs": []
    },
    {
      "cell_type": "code",
      "metadata": {
        "id": "2MlfHjAyDGtc"
      },
      "source": [
        "for i in range(0, ns1[\"sequences\"].shape[0]):\n",
        "  for j in range(0, len(ns1[\"sequences\"].loc[i])):\n",
        "    ns1[\"sequences\"].loc[i][j] = dict_final[ns1[\"sequences\"].loc[i][j]]"
      ],
      "execution_count": 5,
      "outputs": []
    },
    {
      "cell_type": "code",
      "metadata": {
        "id": "TqiH57CMP8Vk",
        "colab": {
          "base_uri": "https://localhost:8080/",
          "height": 419
        },
        "outputId": "77db775a-0f4b-417d-b9d1-64d8a4020b78"
      },
      "source": [
        "ns1"
      ],
      "execution_count": 6,
      "outputs": [
        {
          "output_type": "execute_result",
          "data": {
            "text/html": [
              "<div>\n",
              "<style scoped>\n",
              "    .dataframe tbody tr th:only-of-type {\n",
              "        vertical-align: middle;\n",
              "    }\n",
              "\n",
              "    .dataframe tbody tr th {\n",
              "        vertical-align: top;\n",
              "    }\n",
              "\n",
              "    .dataframe thead th {\n",
              "        text-align: right;\n",
              "    }\n",
              "</style>\n",
              "<table border=\"1\" class=\"dataframe\">\n",
              "  <thead>\n",
              "    <tr style=\"text-align: right;\">\n",
              "      <th></th>\n",
              "      <th>sequences</th>\n",
              "      <th>serotype</th>\n",
              "      <th>outcome</th>\n",
              "      <th>outcome_bin</th>\n",
              "      <th>Label</th>\n",
              "    </tr>\n",
              "  </thead>\n",
              "  <tbody>\n",
              "    <tr>\n",
              "      <th>0</th>\n",
              "      <td>[22, 19, 19, 14, 38, 7, 4, 7, 35, 2, 44, 13, 4...</td>\n",
              "      <td>3</td>\n",
              "      <td>Severa</td>\n",
              "      <td>Severa</td>\n",
              "      <td>1</td>\n",
              "    </tr>\n",
              "    <tr>\n",
              "      <th>1</th>\n",
              "      <td>[22, 19, 19, 14, 38, 7, 4, 7, 35, 53, 44, 13, ...</td>\n",
              "      <td>3</td>\n",
              "      <td>Severa</td>\n",
              "      <td>Severa</td>\n",
              "      <td>1</td>\n",
              "    </tr>\n",
              "    <tr>\n",
              "      <th>2</th>\n",
              "      <td>[22, 19, 19, 14, 38, 7, 4, 7, 35, 53, 44, 13, ...</td>\n",
              "      <td>3</td>\n",
              "      <td>Severa</td>\n",
              "      <td>Severa</td>\n",
              "      <td>1</td>\n",
              "    </tr>\n",
              "    <tr>\n",
              "      <th>3</th>\n",
              "      <td>[22, 19, 19, 14, 38, 7, 4, 7, 35, 53, 44, 13, ...</td>\n",
              "      <td>3</td>\n",
              "      <td>Classica</td>\n",
              "      <td>Classica</td>\n",
              "      <td>0</td>\n",
              "    </tr>\n",
              "    <tr>\n",
              "      <th>4</th>\n",
              "      <td>[22, 27, 19, 14, 38, 7, 4, 7, 33, 53, 18, 31, ...</td>\n",
              "      <td>3</td>\n",
              "      <td>Classica</td>\n",
              "      <td>Classica</td>\n",
              "      <td>0</td>\n",
              "    </tr>\n",
              "    <tr>\n",
              "      <th>...</th>\n",
              "      <td>...</td>\n",
              "      <td>...</td>\n",
              "      <td>...</td>\n",
              "      <td>...</td>\n",
              "      <td>...</td>\n",
              "    </tr>\n",
              "    <tr>\n",
              "      <th>266</th>\n",
              "      <td>[15, 59, 22, 49, 17, 21, 8, 0, 20, 3, 28, 49, ...</td>\n",
              "      <td>1</td>\n",
              "      <td>Classica</td>\n",
              "      <td>Classica</td>\n",
              "      <td>0</td>\n",
              "    </tr>\n",
              "    <tr>\n",
              "      <th>267</th>\n",
              "      <td>[15, 59, 22, 49, 17, 21, 8, 0, 20, 3, 28, 49, ...</td>\n",
              "      <td>1</td>\n",
              "      <td>Classica</td>\n",
              "      <td>Classica</td>\n",
              "      <td>0</td>\n",
              "    </tr>\n",
              "    <tr>\n",
              "      <th>268</th>\n",
              "      <td>[15, 59, 22, 49, 17, 21, 8, 11, 20, 3, 28, 49,...</td>\n",
              "      <td>1</td>\n",
              "      <td>Classica</td>\n",
              "      <td>Classica</td>\n",
              "      <td>0</td>\n",
              "    </tr>\n",
              "    <tr>\n",
              "      <th>269</th>\n",
              "      <td>[15, 59, 22, 49, 17, 21, 8, 11, 20, 3, 28, 49,...</td>\n",
              "      <td>1</td>\n",
              "      <td>Classica</td>\n",
              "      <td>Classica</td>\n",
              "      <td>0</td>\n",
              "    </tr>\n",
              "    <tr>\n",
              "      <th>270</th>\n",
              "      <td>[15, 59, 22, 49, 17, 21, 8, 60, 20, 3, 28, 49,...</td>\n",
              "      <td>1</td>\n",
              "      <td>Classica</td>\n",
              "      <td>Classica</td>\n",
              "      <td>0</td>\n",
              "    </tr>\n",
              "  </tbody>\n",
              "</table>\n",
              "<p>271 rows × 5 columns</p>\n",
              "</div>"
            ],
            "text/plain": [
              "                                             sequences  ...  Label\n",
              "0    [22, 19, 19, 14, 38, 7, 4, 7, 35, 2, 44, 13, 4...  ...      1\n",
              "1    [22, 19, 19, 14, 38, 7, 4, 7, 35, 53, 44, 13, ...  ...      1\n",
              "2    [22, 19, 19, 14, 38, 7, 4, 7, 35, 53, 44, 13, ...  ...      1\n",
              "3    [22, 19, 19, 14, 38, 7, 4, 7, 35, 53, 44, 13, ...  ...      0\n",
              "4    [22, 27, 19, 14, 38, 7, 4, 7, 33, 53, 18, 31, ...  ...      0\n",
              "..                                                 ...  ...    ...\n",
              "266  [15, 59, 22, 49, 17, 21, 8, 0, 20, 3, 28, 49, ...  ...      0\n",
              "267  [15, 59, 22, 49, 17, 21, 8, 0, 20, 3, 28, 49, ...  ...      0\n",
              "268  [15, 59, 22, 49, 17, 21, 8, 11, 20, 3, 28, 49,...  ...      0\n",
              "269  [15, 59, 22, 49, 17, 21, 8, 11, 20, 3, 28, 49,...  ...      0\n",
              "270  [15, 59, 22, 49, 17, 21, 8, 60, 20, 3, 28, 49,...  ...      0\n",
              "\n",
              "[271 rows x 5 columns]"
            ]
          },
          "metadata": {
            "tags": []
          },
          "execution_count": 6
        }
      ]
    },
    {
      "cell_type": "code",
      "metadata": {
        "id": "BafdpjGRSGYl",
        "colab": {
          "base_uri": "https://localhost:8080/",
          "height": 419
        },
        "outputId": "2993e3a1-f0bb-4f64-fbca-35f9ff4729e7"
      },
      "source": [
        "arr = np.array(ns1.sequences)\n",
        "\n",
        "matriz = []\n",
        "for i, lista in enumerate(arr):\n",
        "  matriz_dispersao = np.zeros(size)\n",
        "  for j, elem in enumerate(lista):\n",
        "    matriz_dispersao[elem] += 1\n",
        "  matriz.append(matriz_dispersao.astype(int))\n",
        "\n",
        "train_data = np.array(matriz)\n",
        "train_data.shape\n",
        "ns1[\"matriz_disp\"] = matriz\n",
        "ns1"
      ],
      "execution_count": 7,
      "outputs": [
        {
          "output_type": "execute_result",
          "data": {
            "text/html": [
              "<div>\n",
              "<style scoped>\n",
              "    .dataframe tbody tr th:only-of-type {\n",
              "        vertical-align: middle;\n",
              "    }\n",
              "\n",
              "    .dataframe tbody tr th {\n",
              "        vertical-align: top;\n",
              "    }\n",
              "\n",
              "    .dataframe thead th {\n",
              "        text-align: right;\n",
              "    }\n",
              "</style>\n",
              "<table border=\"1\" class=\"dataframe\">\n",
              "  <thead>\n",
              "    <tr style=\"text-align: right;\">\n",
              "      <th></th>\n",
              "      <th>sequences</th>\n",
              "      <th>serotype</th>\n",
              "      <th>outcome</th>\n",
              "      <th>outcome_bin</th>\n",
              "      <th>Label</th>\n",
              "      <th>matriz_disp</th>\n",
              "    </tr>\n",
              "  </thead>\n",
              "  <tbody>\n",
              "    <tr>\n",
              "      <th>0</th>\n",
              "      <td>[22, 19, 19, 14, 38, 7, 4, 7, 35, 2, 44, 13, 4...</td>\n",
              "      <td>3</td>\n",
              "      <td>Severa</td>\n",
              "      <td>Severa</td>\n",
              "      <td>1</td>\n",
              "      <td>[18, 23, 23, 4, 12, 14, 8, 17, 5, 17, 8, 10, 9...</td>\n",
              "    </tr>\n",
              "    <tr>\n",
              "      <th>1</th>\n",
              "      <td>[22, 19, 19, 14, 38, 7, 4, 7, 35, 53, 44, 13, ...</td>\n",
              "      <td>3</td>\n",
              "      <td>Severa</td>\n",
              "      <td>Severa</td>\n",
              "      <td>1</td>\n",
              "      <td>[16, 22, 22, 7, 13, 13, 8, 18, 4, 17, 7, 10, 8...</td>\n",
              "    </tr>\n",
              "    <tr>\n",
              "      <th>2</th>\n",
              "      <td>[22, 19, 19, 14, 38, 7, 4, 7, 35, 53, 44, 13, ...</td>\n",
              "      <td>3</td>\n",
              "      <td>Severa</td>\n",
              "      <td>Severa</td>\n",
              "      <td>1</td>\n",
              "      <td>[17, 22, 22, 5, 13, 13, 8, 18, 4, 18, 7, 10, 8...</td>\n",
              "    </tr>\n",
              "    <tr>\n",
              "      <th>3</th>\n",
              "      <td>[22, 19, 19, 14, 38, 7, 4, 7, 35, 53, 44, 13, ...</td>\n",
              "      <td>3</td>\n",
              "      <td>Classica</td>\n",
              "      <td>Classica</td>\n",
              "      <td>0</td>\n",
              "      <td>[18, 23, 22, 4, 11, 13, 8, 17, 5, 18, 7, 11, 8...</td>\n",
              "    </tr>\n",
              "    <tr>\n",
              "      <th>4</th>\n",
              "      <td>[22, 27, 19, 14, 38, 7, 4, 7, 33, 53, 18, 31, ...</td>\n",
              "      <td>3</td>\n",
              "      <td>Classica</td>\n",
              "      <td>Classica</td>\n",
              "      <td>0</td>\n",
              "      <td>[16, 22, 19, 6, 13, 16, 8, 18, 3, 16, 5, 12, 8...</td>\n",
              "    </tr>\n",
              "    <tr>\n",
              "      <th>...</th>\n",
              "      <td>...</td>\n",
              "      <td>...</td>\n",
              "      <td>...</td>\n",
              "      <td>...</td>\n",
              "      <td>...</td>\n",
              "      <td>...</td>\n",
              "    </tr>\n",
              "    <tr>\n",
              "      <th>266</th>\n",
              "      <td>[15, 59, 22, 49, 17, 21, 8, 0, 20, 3, 28, 49, ...</td>\n",
              "      <td>1</td>\n",
              "      <td>Classica</td>\n",
              "      <td>Classica</td>\n",
              "      <td>0</td>\n",
              "      <td>[18, 14, 9, 21, 19, 13, 15, 5, 22, 4, 17, 13, ...</td>\n",
              "    </tr>\n",
              "    <tr>\n",
              "      <th>267</th>\n",
              "      <td>[15, 59, 22, 49, 17, 21, 8, 0, 20, 3, 28, 49, ...</td>\n",
              "      <td>1</td>\n",
              "      <td>Classica</td>\n",
              "      <td>Classica</td>\n",
              "      <td>0</td>\n",
              "      <td>[18, 14, 9, 21, 19, 13, 14, 5, 22, 4, 17, 13, ...</td>\n",
              "    </tr>\n",
              "    <tr>\n",
              "      <th>268</th>\n",
              "      <td>[15, 59, 22, 49, 17, 21, 8, 11, 20, 3, 28, 49,...</td>\n",
              "      <td>1</td>\n",
              "      <td>Classica</td>\n",
              "      <td>Classica</td>\n",
              "      <td>0</td>\n",
              "      <td>[17, 15, 9, 19, 18, 14, 15, 5, 23, 4, 14, 12, ...</td>\n",
              "    </tr>\n",
              "    <tr>\n",
              "      <th>269</th>\n",
              "      <td>[15, 59, 22, 49, 17, 21, 8, 11, 20, 3, 28, 49,...</td>\n",
              "      <td>1</td>\n",
              "      <td>Classica</td>\n",
              "      <td>Classica</td>\n",
              "      <td>0</td>\n",
              "      <td>[18, 17, 10, 18, 19, 11, 15, 5, 23, 5, 18, 11,...</td>\n",
              "    </tr>\n",
              "    <tr>\n",
              "      <th>270</th>\n",
              "      <td>[15, 59, 22, 49, 17, 21, 8, 60, 20, 3, 28, 49,...</td>\n",
              "      <td>1</td>\n",
              "      <td>Classica</td>\n",
              "      <td>Classica</td>\n",
              "      <td>0</td>\n",
              "      <td>[18, 15, 8, 20, 19, 12, 15, 5, 23, 4, 16, 10, ...</td>\n",
              "    </tr>\n",
              "  </tbody>\n",
              "</table>\n",
              "<p>271 rows × 6 columns</p>\n",
              "</div>"
            ],
            "text/plain": [
              "                                             sequences  ...                                        matriz_disp\n",
              "0    [22, 19, 19, 14, 38, 7, 4, 7, 35, 2, 44, 13, 4...  ...  [18, 23, 23, 4, 12, 14, 8, 17, 5, 17, 8, 10, 9...\n",
              "1    [22, 19, 19, 14, 38, 7, 4, 7, 35, 53, 44, 13, ...  ...  [16, 22, 22, 7, 13, 13, 8, 18, 4, 17, 7, 10, 8...\n",
              "2    [22, 19, 19, 14, 38, 7, 4, 7, 35, 53, 44, 13, ...  ...  [17, 22, 22, 5, 13, 13, 8, 18, 4, 18, 7, 10, 8...\n",
              "3    [22, 19, 19, 14, 38, 7, 4, 7, 35, 53, 44, 13, ...  ...  [18, 23, 22, 4, 11, 13, 8, 17, 5, 18, 7, 11, 8...\n",
              "4    [22, 27, 19, 14, 38, 7, 4, 7, 33, 53, 18, 31, ...  ...  [16, 22, 19, 6, 13, 16, 8, 18, 3, 16, 5, 12, 8...\n",
              "..                                                 ...  ...                                                ...\n",
              "266  [15, 59, 22, 49, 17, 21, 8, 0, 20, 3, 28, 49, ...  ...  [18, 14, 9, 21, 19, 13, 15, 5, 22, 4, 17, 13, ...\n",
              "267  [15, 59, 22, 49, 17, 21, 8, 0, 20, 3, 28, 49, ...  ...  [18, 14, 9, 21, 19, 13, 14, 5, 22, 4, 17, 13, ...\n",
              "268  [15, 59, 22, 49, 17, 21, 8, 11, 20, 3, 28, 49,...  ...  [17, 15, 9, 19, 18, 14, 15, 5, 23, 4, 14, 12, ...\n",
              "269  [15, 59, 22, 49, 17, 21, 8, 11, 20, 3, 28, 49,...  ...  [18, 17, 10, 18, 19, 11, 15, 5, 23, 5, 18, 11,...\n",
              "270  [15, 59, 22, 49, 17, 21, 8, 60, 20, 3, 28, 49,...  ...  [18, 15, 8, 20, 19, 12, 15, 5, 23, 4, 16, 10, ...\n",
              "\n",
              "[271 rows x 6 columns]"
            ]
          },
          "metadata": {
            "tags": []
          },
          "execution_count": 7
        }
      ]
    },
    {
      "cell_type": "code",
      "metadata": {
        "id": "wABYUs1lfbIQ"
      },
      "source": [
        "import tensorflow as tf\n",
        "\n",
        "series = ns1[\"matriz_disp\"].copy()\n",
        "slist = series.to_list()\n",
        "train_data = np.array(slist)"
      ],
      "execution_count": 8,
      "outputs": []
    },
    {
      "cell_type": "code",
      "metadata": {
        "id": "fiPHVd45bR29",
        "colab": {
          "base_uri": "https://localhost:8080/",
          "height": 421
        },
        "outputId": "03b89597-3f03-415e-f19c-6933baa4f248"
      },
      "source": [
        "arr = np.array(ns1[\"matriz_disp\"].to_list())\n",
        "\n",
        "igualdade = np.zeros(arr.shape)\n",
        "\n",
        "def checaIgualdadeComOutrosElementos(el, vetor):\n",
        "  acumulador = 0\n",
        "  for i, elem in enumerate(vetor):\n",
        "    if (elem == el):\n",
        "      acumulador += 1\n",
        "  return acumulador\n",
        "\n",
        "for i in range(0, arr.shape[1]):\n",
        "  col = arr[:,i:i+1].reshape(-1)\n",
        "  for j in range(0, arr.shape[0]):\n",
        "    igualdade[j, i] = (checaIgualdadeComOutrosElementos(col[j], col))\n",
        "\n",
        "medias = np.zeros(70)\n",
        "for i in range(0, igualdade.shape[1]):\n",
        "  medias[i] = igualdade[:, i:i+1].reshape(-1).mean()\n",
        "\n",
        "reversed_dict = {value : key for (key, value) in dict_final.items()}\n",
        "\n",
        "arr_codons = []\n",
        "for i in range(0, len(reversed_dict)):\n",
        "   arr_codons.append(reversed_dict[i])\n",
        "\n",
        "fig = plt.figure(figsize=(15, 5))\n",
        "ax = fig.add_axes([0,0,1,1])\n",
        "ax.bar(arr_codons, medias)\n",
        "ax.spines[\"top\"].set_visible(False)\n",
        "ax.spines[\"right\"].set_visible(False)\n",
        "plt.xticks(rotation=90)\n",
        "plt.annotate(\"Os últimos são altos porque seus valores incluem 0 várias vezes\", xy=(len(arr_codons) - 35, np.max(medias) - 50), xytext=(30, 50))\n",
        "plt.show()"
      ],
      "execution_count": 9,
      "outputs": [
        {
          "output_type": "display_data",
          "data": {
            "image/png": "[encoded data removed]",
            "text/plain": [
              "<Figure size 1080x360 with 1 Axes>"
            ]
          },
          "metadata": {
            "tags": [],
            "needs_background": "light"
          }
        }
      ]
    },
    {
      "cell_type": "code",
      "metadata": {
        "id": "qKJq2Z2hjKZB"
      },
      "source": [
        "#Normalização do Train Data\n",
        "\n",
        "train_stats = pd.DataFrame(train_data).describe()\n",
        "train_stats = train_stats.transpose()\n",
        "\n",
        "def norm(x):\n",
        "  return (x - train_stats['mean']) / train_stats['std']\n",
        "\n",
        "# train_data = normalize(train_data)\n",
        "# train_data\n",
        "\n",
        "train_data = norm(pd.DataFrame(train_data))\n",
        "train_data = train_data.to_numpy()"
      ],
      "execution_count": 10,
      "outputs": []
    },
    {
      "cell_type": "code",
      "metadata": {
        "id": "qpvxaSuzgLAE",
        "colab": {
          "base_uri": "https://localhost:8080/"
        },
        "outputId": "f7a0795c-c271-42aa-c16f-c2a718231e9d"
      },
      "source": [
        "from keras import models, Model\n",
        "from keras import layers \n",
        "import keras\n",
        "\n",
        "def build_model():\n",
        "    inputs = layers.Input(shape=(size,)) # placeholder\n",
        "    x = layers.Dense(32, activation='relu')(inputs)\n",
        "    out = layers.Dense(1, activation='sigmoid')( x )\n",
        "\n",
        "    model = Model(inputs=[inputs], outputs=[out], name=\"mnits_model\")\n",
        "\n",
        "    model.summary()\n",
        "\n",
        "    opt = keras.optimizers.SGD(learning_rate=0.01)\n",
        "\n",
        "    model.compile(optimizer=opt,\n",
        "                loss='binary_crossentropy',\n",
        "                metrics=['accuracy'])\n",
        "    return model\n",
        "  \n",
        "modelito = build_model()\n",
        "\n",
        "halfShape = int(np.floor(( ns1.shape[0] /2 )))\n",
        "\n",
        "history = modelito.fit(train_data[:halfShape], train_labels[:halfShape], epochs=8, batch_size=25, \n",
        "                      validation_data=(train_data[halfShape: ns1.shape[0]], train_labels[ halfShape: ns1.shape[0] ]))"
      ],
      "execution_count": 16,
      "outputs": [
        {
          "output_type": "stream",
          "text": [
            "Model: \"mnits_model\"\n",
            "_________________________________________________________________\n",
            "Layer (type)                 Output Shape              Param #   \n",
            "=================================================================\n",
            "input_2 (InputLayer)         [(None, 70)]              0         \n",
            "_________________________________________________________________\n",
            "dense_2 (Dense)              (None, 32)                2272      \n",
            "_________________________________________________________________\n",
            "dense_3 (Dense)              (None, 1)                 33        \n",
            "=================================================================\n",
            "Total params: 2,305\n",
            "Trainable params: 2,305\n",
            "Non-trainable params: 0\n",
            "_________________________________________________________________\n",
            "Epoch 1/8\n",
            "6/6 [==============================] - 1s 53ms/step - loss: 0.5846 - accuracy: 0.6535 - val_loss: 0.6987 - val_accuracy: 0.5882\n",
            "Epoch 2/8\n",
            "6/6 [==============================] - 0s 7ms/step - loss: 0.5929 - accuracy: 0.5826 - val_loss: 0.6935 - val_accuracy: 0.6029\n",
            "Epoch 3/8\n",
            "6/6 [==============================] - 0s 7ms/step - loss: 0.5235 - accuracy: 0.6794 - val_loss: 0.6860 - val_accuracy: 0.6176\n",
            "Epoch 4/8\n",
            "6/6 [==============================] - 0s 6ms/step - loss: 0.5035 - accuracy: 0.6742 - val_loss: 0.6847 - val_accuracy: 0.6176\n",
            "Epoch 5/8\n",
            "6/6 [==============================] - 0s 9ms/step - loss: 0.5061 - accuracy: 0.6791 - val_loss: 0.6808 - val_accuracy: 0.6176\n",
            "Epoch 6/8\n",
            "6/6 [==============================] - 0s 7ms/step - loss: 0.4923 - accuracy: 0.6702 - val_loss: 0.6758 - val_accuracy: 0.6103\n",
            "Epoch 7/8\n",
            "6/6 [==============================] - 0s 7ms/step - loss: 0.4918 - accuracy: 0.6660 - val_loss: 0.6749 - val_accuracy: 0.6103\n",
            "Epoch 8/8\n",
            "6/6 [==============================] - 0s 7ms/step - loss: 0.4813 - accuracy: 0.6682 - val_loss: 0.6751 - val_accuracy: 0.6176\n"
          ],
          "name": "stdout"
        }
      ]
    },
    {
      "cell_type": "code",
      "metadata": {
        "colab": {
          "base_uri": "https://localhost:8080/",
          "height": 280
        },
        "id": "5IVU74EqNyIx",
        "outputId": "13513fe5-c82a-46b1-b41f-0c8e646cfc1d"
      },
      "source": [
        "\n",
        "fig = plt.figure(figsize=(8, 3))\n",
        "ax = fig.add_axes([0,0,1,1])\n",
        "epochs = list(range(1, len(history.history[\"accuracy\"]) + 1))\n",
        "ax.plot(pd.Series(epochs).astype(int), history.history[\"accuracy\"])\n",
        "ax.plot(epochs, history.history[\"val_accuracy\"])\n",
        "ax.spines[\"right\"].set_visible(False)\n",
        "ax.spines[\"top\"].set_visible(False)\n",
        "ax.spines[\"left\"].set_visible(False)\n",
        "ax.margins(0.2)\n",
        "ax.set_ylim(ymin=0, ymax= 1)\n",
        "plt.xticks(epochs, epochs)\n",
        "plt.legend([\"Acurácia de treino\", \"Acurácia de Validação\"], loc=\"lower right\")\n",
        "plt.title(\"Acurácia & Validação do Treino\")\n",
        "plt.text(len(epochs) + 0.3, \n",
        "         np.max(history.history[\"accuracy\"]) + 0.01, str(round(np.max(history.history[\"accuracy\"]), 4)),\n",
        "         color=\"#1f77b4\")\n",
        "plt.text(len(epochs) + 0.3, np.max(history.history[\"val_accuracy\"]) - 0.06, str(round(np.max(history.history[\"val_accuracy\"]), 4)),\n",
        "         color=\"#ff7f04\")\n",
        "plt.show()"
      ],
      "execution_count": 17,
      "outputs": [
        {
          "output_type": "display_data",
          "data": {
            "image/png": "[encoded data removed]",
            "text/plain": [
              "<Figure size 576x216 with 1 Axes>"
            ]
          },
          "metadata": {
            "tags": [],
            "needs_background": "light"
          }
        }
      ]
    },
    {
      "cell_type": "code",
      "metadata": {
        "id": "y-gJSlxA4Gpm",
        "colab": {
          "base_uri": "https://localhost:8080/"
        },
        "outputId": "02b60a86-8249-49a9-c8c9-7565565ca773"
      },
      "source": [
        "amount = 271\n",
        "initial = int(np.floor(amount / 2))\n",
        "\n",
        "test, val = train_data[initial:amount], train_labels[initial:amount]\n",
        "\n",
        "prediction = modelito.predict(test)\n",
        "\n",
        "arr_prediction = pd.Series(tf.greater(prediction, 0.5).numpy().reshape(-1))\n",
        "arr_prediction = arr_prediction.astype(int).to_numpy()\n",
        "\n",
        "falsos_negativos, falsos_positivos = 0,0\n",
        "acertos_positivos, acertos_negativos = 0,0\n",
        "\n",
        "for index, valor in enumerate(arr_prediction):\n",
        "  if valor == val[index]:\n",
        "    if (valor == 1): acertos_positivos += 1\n",
        "    if (valor == 0): acertos_negativos += 1\n",
        "  else:\n",
        "    if (valor == 1): falsos_positivos += 1\n",
        "    if (valor == 0): falsos_negativos += 1\n",
        "\n",
        "print(\"(Início do Vetor, Fim do Vetor): \", (initial, amount))\n",
        "print(pd.Series(val).value_counts())\n",
        "print()\n",
        "print(\"Matriz de Confusão:\")\n",
        "print(np.array([[acertos_positivos, falsos_negativos],\n",
        "       [falsos_positivos, acertos_negativos]]))\n",
        "print()\n",
        "acertos, erros = acertos_negativos + acertos_positivos, falsos_positivos + falsos_negativos\n",
        "print(\"Quantidade de (acertos, erros, porcentagens): \", (acertos, erros, np.round(acertos / (amount - initial) * 100, 3), np.round(erros / (amount - initial) * 100, 3)))"
      ],
      "execution_count": 18,
      "outputs": [
        {
          "output_type": "stream",
          "text": [
            "(Início do Vetor, Fim do Vetor):  (135, 271)\n",
            "0    93\n",
            "1    43\n",
            "dtype: int64\n",
            "\n",
            "Matriz de Confusão:\n",
            "[[16 27]\n",
            " [25 68]]\n",
            "\n",
            "Quantidade de (acertos, erros, porcentagens):  (84, 52, 61.765, 38.235)\n"
          ],
          "name": "stdout"
        }
      ]
    },
    {
      "cell_type": "code",
      "metadata": {
        "id": "UmMXTnECuRPH"
      },
      "source": [
        ""
      ],
      "execution_count": 13,
      "outputs": []
    }
  ]
}