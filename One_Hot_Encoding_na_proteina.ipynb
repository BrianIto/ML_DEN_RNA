{
  "nbformat": 4,
  "nbformat_minor": 0,
  "metadata": {
    "colab": {
      "name": "One Hot Encoding na proteina.ipynb",
      "provenance": [],
      "collapsed_sections": [],
      "mount_file_id": "1iMDn3fy0P2NVljWfh5VzyZ2_9XibDcmQ",
      "authorship_tag": "ABX9TyMbggoceF89uiHNlRfNACAa",
      "include_colab_link": true
    },
    "kernelspec": {
      "display_name": "Python 3",
      "name": "python3"
    },
    "language_info": {
      "name": "python"
    }
  },
  "cells": [
    {
      "cell_type": "markdown",
      "metadata": {
        "id": "view-in-github",
        "colab_type": "text"
      },
      "source": [
        "<a href=\"https://colab.research.google.com/github/BrianIto/ML_DEN_RNA/blob/main/One_Hot_Encoding_na_proteina.ipynb\" target=\"_parent\"><img src=\"https://colab.research.google.com/assets/colab-badge.svg\" alt=\"Open In Colab\"/></a>"
      ]
    },
    {
      "cell_type": "code",
      "metadata": {
        "id": "AgjIxL5K6sFB"
      },
      "source": [
        "import numpy as np\n",
        "import pandas as pd\n",
        "import matplotlib.pyplot as plt\n",
        "\n",
        "ns1 = pd.read_csv('M_protein.csv')"
      ],
      "execution_count": null,
      "outputs": []
    },
    {
      "cell_type": "code",
      "metadata": {
        "id": "m6aBWC6c9Z9T",
        "colab": {
          "base_uri": "https://localhost:8080/"
        },
        "outputId": "dc35253d-ae13-439d-fb20-3d3bf2feecd9"
      },
      "source": [
        "#Transforma String do vetor do CSV em vetor.\n",
        "sequences = ns1[\"sequences\"].str.replace(\"[\", \"\")\n",
        "sequences = sequences.str.replace(\"]\", \"\")\n",
        "sequences = sequences.str.replace(\"'\", \"\")\n",
        "sequences = np.array(sequences.str.split(\", \"))\n",
        "ns1.sequences = sequences\n",
        "ns1.shape"
      ],
      "execution_count": null,
      "outputs": [
        {
          "output_type": "execute_result",
          "data": {
            "text/plain": [
              "(133, 4)"
            ]
          },
          "metadata": {
            "tags": []
          },
          "execution_count": 39
        }
      ]
    },
    {
      "cell_type": "code",
      "metadata": {
        "id": "8yIhjm-1-B1h",
        "colab": {
          "base_uri": "https://localhost:8080/"
        },
        "outputId": "abaa1f6a-2b02-4936-c015-15fdd97460f2"
      },
      "source": [
        "#Severa == 1 e Classica == 0\n",
        "ns1[\"Label\"] = (ns1[\"outcome\"] == \"Severa\").astype(int)\n",
        "\n",
        "train_labels = np.array(ns1[\"Label\"])\n",
        "train_labels"
      ],
      "execution_count": null,
      "outputs": [
        {
          "output_type": "execute_result",
          "data": {
            "text/plain": [
              "array([1, 0, 0, 0, 1, 0, 0, 1, 0, 0, 0, 0, 0, 0, 1, 0, 1, 1, 1, 0, 0, 0,\n",
              "       0, 0, 0, 0, 0, 0, 0, 0, 0, 0, 1, 1, 0, 0, 1, 1, 0, 1, 1, 1, 1, 1,\n",
              "       1, 0, 0, 1, 0, 0, 0, 0, 0, 1, 0, 1, 0, 0, 1, 0, 0, 0, 0, 1, 1, 1,\n",
              "       1, 1, 0, 1, 1, 0, 0, 1, 1, 0, 0, 0, 0, 0, 0, 1, 0, 0, 0, 1, 1, 0,\n",
              "       1, 1, 0, 0, 0, 0, 0, 0, 1, 0, 0, 0, 0, 0, 1, 0, 1, 0, 0, 1, 1, 1,\n",
              "       0, 0, 0, 0, 0, 0, 0, 0, 0, 1, 0, 0, 0, 0, 0, 0, 0, 0, 0, 0, 0, 0,\n",
              "       0])"
            ]
          },
          "metadata": {
            "tags": []
          },
          "execution_count": 40
        }
      ]
    },
    {
      "cell_type": "code",
      "metadata": {
        "id": "rsHJAqfO_8j2"
      },
      "source": [
        "data_dict = {}\n",
        "\n",
        "#Cria Dicionário de Frequência\n",
        "for i, sequence in enumerate(np.array(ns1[\"sequences\"])):\n",
        "  for j, codon in enumerate(sequence):\n",
        "    if (codon in data_dict):\n",
        "      data_dict[codon] += 1\n",
        "    else:\n",
        "      data_dict[codon] = 1\n",
        "\n",
        "#Cria Dicionário de Ranking de Aparição\n",
        "def getMaior(dict):\n",
        "  max, maxKey = -1, ''\n",
        "  for key in dict:\n",
        "    if (max < dict[key]):\n",
        "      max = dict[key]\n",
        "      maxKey = key\n",
        "  return max, maxKey\n",
        "  \n",
        "size = len(data_dict.keys())\n",
        "\n",
        "data_dict_copy = data_dict.copy()\n",
        "dict_final = {}\n",
        "\n",
        "for i in range(0, size):\n",
        "  max, maxKey = getMaior(data_dict_copy)\n",
        "  del data_dict_copy[maxKey]\n",
        "  dict_final[maxKey] = i"
      ],
      "execution_count": null,
      "outputs": []
    },
    {
      "cell_type": "code",
      "metadata": {
        "id": "2MlfHjAyDGtc"
      },
      "source": [
        "for i in range(0, ns1[\"sequences\"].shape[0]):\n",
        "  for j in range(0, len(ns1[\"sequences\"].loc[i])):\n",
        "    ns1[\"sequences\"].loc[i][j] = dict_final[ns1[\"sequences\"].loc[i][j]]"
      ],
      "execution_count": null,
      "outputs": []
    },
    {
      "cell_type": "code",
      "metadata": {
        "id": "TqiH57CMP8Vk",
        "colab": {
          "base_uri": "https://localhost:8080/",
          "height": 419
        },
        "outputId": "4ba7e108-6aa0-4d6c-db62-5f9af54ca4b9"
      },
      "source": [
        "ns1"
      ],
      "execution_count": null,
      "outputs": [
        {
          "output_type": "execute_result",
          "data": {
            "text/html": [
              "<div>\n",
              "<style scoped>\n",
              "    .dataframe tbody tr th:only-of-type {\n",
              "        vertical-align: middle;\n",
              "    }\n",
              "\n",
              "    .dataframe tbody tr th {\n",
              "        vertical-align: top;\n",
              "    }\n",
              "\n",
              "    .dataframe thead th {\n",
              "        text-align: right;\n",
              "    }\n",
              "</style>\n",
              "<table border=\"1\" class=\"dataframe\">\n",
              "  <thead>\n",
              "    <tr style=\"text-align: right;\">\n",
              "      <th></th>\n",
              "      <th>sequences</th>\n",
              "      <th>serotype</th>\n",
              "      <th>outcome</th>\n",
              "      <th>outcome_bin</th>\n",
              "      <th>Label</th>\n",
              "    </tr>\n",
              "  </thead>\n",
              "  <tbody>\n",
              "    <tr>\n",
              "      <th>0</th>\n",
              "      <td>[34, 8, 17, 10, 0, 39, 15, 24, 6, 30, 8, 1, 38...</td>\n",
              "      <td>2</td>\n",
              "      <td>Severa</td>\n",
              "      <td>Severa</td>\n",
              "      <td>1</td>\n",
              "    </tr>\n",
              "    <tr>\n",
              "      <th>1</th>\n",
              "      <td>[34, 8, 17, 23, 49, 56, 15, 7, 6, 61, 39, 1, 3...</td>\n",
              "      <td>3</td>\n",
              "      <td>Classica</td>\n",
              "      <td>Classica</td>\n",
              "      <td>0</td>\n",
              "    </tr>\n",
              "    <tr>\n",
              "      <th>2</th>\n",
              "      <td>[34, 8, 17, 23, 49, 56, 12, 7, 6, 61, 39, 1, 3...</td>\n",
              "      <td>3</td>\n",
              "      <td>Classica</td>\n",
              "      <td>Classica</td>\n",
              "      <td>0</td>\n",
              "    </tr>\n",
              "    <tr>\n",
              "      <th>3</th>\n",
              "      <td>[34, 8, 17, 23, 49, 56, 12, 7, 6, 61, 39, 1, 3...</td>\n",
              "      <td>3</td>\n",
              "      <td>Classica</td>\n",
              "      <td>Classica</td>\n",
              "      <td>0</td>\n",
              "    </tr>\n",
              "    <tr>\n",
              "      <th>4</th>\n",
              "      <td>[34, 8, 17, 23, 49, 56, 12, 7, 6, 61, 39, 1, 3...</td>\n",
              "      <td>3</td>\n",
              "      <td>Severa</td>\n",
              "      <td>Severa</td>\n",
              "      <td>1</td>\n",
              "    </tr>\n",
              "    <tr>\n",
              "      <th>...</th>\n",
              "      <td>...</td>\n",
              "      <td>...</td>\n",
              "      <td>...</td>\n",
              "      <td>...</td>\n",
              "      <td>...</td>\n",
              "    </tr>\n",
              "    <tr>\n",
              "      <th>128</th>\n",
              "      <td>[21, 9, 28, 10, 0, 39, 5, 7, 4, 30, 8, 1, 38, ...</td>\n",
              "      <td>2</td>\n",
              "      <td>Classica</td>\n",
              "      <td>Classica</td>\n",
              "      <td>0</td>\n",
              "    </tr>\n",
              "    <tr>\n",
              "      <th>129</th>\n",
              "      <td>[21, 9, 28, 10, 0, 39, 5, 7, 4, 30, 8, 1, 38, ...</td>\n",
              "      <td>2</td>\n",
              "      <td>Classica</td>\n",
              "      <td>Classica</td>\n",
              "      <td>0</td>\n",
              "    </tr>\n",
              "    <tr>\n",
              "      <th>130</th>\n",
              "      <td>[21, 9, 28, 10, 10, 62, 7, 7, 6, 61, 8, 1, 36,...</td>\n",
              "      <td>1</td>\n",
              "      <td>Classica</td>\n",
              "      <td>Classica</td>\n",
              "      <td>0</td>\n",
              "    </tr>\n",
              "    <tr>\n",
              "      <th>131</th>\n",
              "      <td>[21, 9, 17, 10, 0, 56, 24, 7, 6, 30, 8, 1, 36,...</td>\n",
              "      <td>1</td>\n",
              "      <td>Classica</td>\n",
              "      <td>Classica</td>\n",
              "      <td>0</td>\n",
              "    </tr>\n",
              "    <tr>\n",
              "      <th>132</th>\n",
              "      <td>[21, 9, 21, 10, 0, 54, 5, 7, 4, 30, 8, 1, 26, ...</td>\n",
              "      <td>2</td>\n",
              "      <td>Classica</td>\n",
              "      <td>Classica</td>\n",
              "      <td>0</td>\n",
              "    </tr>\n",
              "  </tbody>\n",
              "</table>\n",
              "<p>133 rows × 5 columns</p>\n",
              "</div>"
            ],
            "text/plain": [
              "                                             sequences  ...  Label\n",
              "0    [34, 8, 17, 10, 0, 39, 15, 24, 6, 30, 8, 1, 38...  ...      1\n",
              "1    [34, 8, 17, 23, 49, 56, 15, 7, 6, 61, 39, 1, 3...  ...      0\n",
              "2    [34, 8, 17, 23, 49, 56, 12, 7, 6, 61, 39, 1, 3...  ...      0\n",
              "3    [34, 8, 17, 23, 49, 56, 12, 7, 6, 61, 39, 1, 3...  ...      0\n",
              "4    [34, 8, 17, 23, 49, 56, 12, 7, 6, 61, 39, 1, 3...  ...      1\n",
              "..                                                 ...  ...    ...\n",
              "128  [21, 9, 28, 10, 0, 39, 5, 7, 4, 30, 8, 1, 38, ...  ...      0\n",
              "129  [21, 9, 28, 10, 0, 39, 5, 7, 4, 30, 8, 1, 38, ...  ...      0\n",
              "130  [21, 9, 28, 10, 10, 62, 7, 7, 6, 61, 8, 1, 36,...  ...      0\n",
              "131  [21, 9, 17, 10, 0, 56, 24, 7, 6, 30, 8, 1, 36,...  ...      0\n",
              "132  [21, 9, 21, 10, 0, 54, 5, 7, 4, 30, 8, 1, 26, ...  ...      0\n",
              "\n",
              "[133 rows x 5 columns]"
            ]
          },
          "metadata": {
            "tags": []
          },
          "execution_count": 43
        }
      ]
    },
    {
      "cell_type": "code",
      "metadata": {
        "id": "BafdpjGRSGYl",
        "colab": {
          "base_uri": "https://localhost:8080/",
          "height": 419
        },
        "outputId": "e8bd6a6d-a2d3-4d74-9128-d773ad57407a"
      },
      "source": [
        "arr = np.array(ns1.sequences)\n",
        "\n",
        "matriz = []\n",
        "for i, lista in enumerate(arr):\n",
        "  matriz_dispersao = np.zeros(size)\n",
        "  for j, elem in enumerate(lista):\n",
        "    matriz_dispersao[elem] += 1\n",
        "  matriz.append(matriz_dispersao.astype(int))\n",
        "\n",
        "train_data = np.array(matriz)\n",
        "train_data.shape\n",
        "ns1[\"matriz_disp\"] = matriz\n",
        "ns1"
      ],
      "execution_count": null,
      "outputs": [
        {
          "output_type": "execute_result",
          "data": {
            "text/html": [
              "<div>\n",
              "<style scoped>\n",
              "    .dataframe tbody tr th:only-of-type {\n",
              "        vertical-align: middle;\n",
              "    }\n",
              "\n",
              "    .dataframe tbody tr th {\n",
              "        vertical-align: top;\n",
              "    }\n",
              "\n",
              "    .dataframe thead th {\n",
              "        text-align: right;\n",
              "    }\n",
              "</style>\n",
              "<table border=\"1\" class=\"dataframe\">\n",
              "  <thead>\n",
              "    <tr style=\"text-align: right;\">\n",
              "      <th></th>\n",
              "      <th>sequences</th>\n",
              "      <th>serotype</th>\n",
              "      <th>outcome</th>\n",
              "      <th>outcome_bin</th>\n",
              "      <th>Label</th>\n",
              "      <th>matriz_disp</th>\n",
              "    </tr>\n",
              "  </thead>\n",
              "  <tbody>\n",
              "    <tr>\n",
              "      <th>0</th>\n",
              "      <td>[34, 8, 17, 10, 0, 39, 15, 24, 6, 30, 8, 1, 38...</td>\n",
              "      <td>2</td>\n",
              "      <td>Severa</td>\n",
              "      <td>Severa</td>\n",
              "      <td>1</td>\n",
              "      <td>[6, 8, 5, 5, 4, 9, 6, 4, 6, 1, 4, 5, 7, 3, 2, ...</td>\n",
              "    </tr>\n",
              "    <tr>\n",
              "      <th>1</th>\n",
              "      <td>[34, 8, 17, 23, 49, 56, 15, 7, 6, 61, 39, 1, 3...</td>\n",
              "      <td>3</td>\n",
              "      <td>Classica</td>\n",
              "      <td>Classica</td>\n",
              "      <td>0</td>\n",
              "      <td>[7, 8, 6, 4, 5, 2, 5, 8, 3, 3, 7, 5, 1, 2, 4, ...</td>\n",
              "    </tr>\n",
              "    <tr>\n",
              "      <th>2</th>\n",
              "      <td>[34, 8, 17, 23, 49, 56, 12, 7, 6, 61, 39, 1, 3...</td>\n",
              "      <td>3</td>\n",
              "      <td>Classica</td>\n",
              "      <td>Classica</td>\n",
              "      <td>0</td>\n",
              "      <td>[7, 8, 6, 3, 5, 2, 5, 8, 2, 4, 6, 4, 2, 2, 3, ...</td>\n",
              "    </tr>\n",
              "    <tr>\n",
              "      <th>3</th>\n",
              "      <td>[34, 8, 17, 23, 49, 56, 12, 7, 6, 61, 39, 1, 3...</td>\n",
              "      <td>3</td>\n",
              "      <td>Classica</td>\n",
              "      <td>Classica</td>\n",
              "      <td>0</td>\n",
              "      <td>[8, 8, 4, 4, 4, 2, 6, 8, 2, 3, 5, 4, 4, 2, 4, ...</td>\n",
              "    </tr>\n",
              "    <tr>\n",
              "      <th>4</th>\n",
              "      <td>[34, 8, 17, 23, 49, 56, 12, 7, 6, 61, 39, 1, 3...</td>\n",
              "      <td>3</td>\n",
              "      <td>Severa</td>\n",
              "      <td>Severa</td>\n",
              "      <td>1</td>\n",
              "      <td>[8, 8, 6, 3, 5, 2, 5, 8, 2, 4, 6, 4, 2, 2, 4, ...</td>\n",
              "    </tr>\n",
              "    <tr>\n",
              "      <th>...</th>\n",
              "      <td>...</td>\n",
              "      <td>...</td>\n",
              "      <td>...</td>\n",
              "      <td>...</td>\n",
              "      <td>...</td>\n",
              "      <td>...</td>\n",
              "    </tr>\n",
              "    <tr>\n",
              "      <th>128</th>\n",
              "      <td>[21, 9, 28, 10, 0, 39, 5, 7, 4, 30, 8, 1, 38, ...</td>\n",
              "      <td>2</td>\n",
              "      <td>Classica</td>\n",
              "      <td>Classica</td>\n",
              "      <td>0</td>\n",
              "      <td>[6, 6, 8, 7, 5, 6, 3, 2, 6, 6, 3, 5, 4, 5, 3, ...</td>\n",
              "    </tr>\n",
              "    <tr>\n",
              "      <th>129</th>\n",
              "      <td>[21, 9, 28, 10, 0, 39, 5, 7, 4, 30, 8, 1, 38, ...</td>\n",
              "      <td>2</td>\n",
              "      <td>Classica</td>\n",
              "      <td>Classica</td>\n",
              "      <td>0</td>\n",
              "      <td>[6, 7, 8, 6, 5, 6, 3, 2, 6, 6, 3, 5, 4, 5, 3, ...</td>\n",
              "    </tr>\n",
              "    <tr>\n",
              "      <th>130</th>\n",
              "      <td>[21, 9, 28, 10, 10, 62, 7, 7, 6, 61, 8, 1, 36,...</td>\n",
              "      <td>1</td>\n",
              "      <td>Classica</td>\n",
              "      <td>Classica</td>\n",
              "      <td>0</td>\n",
              "      <td>[9, 4, 4, 3, 2, 7, 8, 6, 3, 3, 7, 3, 6, 3, 3, ...</td>\n",
              "    </tr>\n",
              "    <tr>\n",
              "      <th>131</th>\n",
              "      <td>[21, 9, 17, 10, 0, 56, 24, 7, 6, 30, 8, 1, 36,...</td>\n",
              "      <td>1</td>\n",
              "      <td>Classica</td>\n",
              "      <td>Classica</td>\n",
              "      <td>0</td>\n",
              "      <td>[10, 5, 6, 3, 5, 6, 5, 4, 3, 4, 6, 5, 5, 5, 2,...</td>\n",
              "    </tr>\n",
              "    <tr>\n",
              "      <th>132</th>\n",
              "      <td>[21, 9, 21, 10, 0, 54, 5, 7, 4, 30, 8, 1, 26, ...</td>\n",
              "      <td>2</td>\n",
              "      <td>Classica</td>\n",
              "      <td>Classica</td>\n",
              "      <td>0</td>\n",
              "      <td>[8, 6, 8, 6, 5, 6, 4, 2, 6, 5, 2, 4, 4, 5, 3, ...</td>\n",
              "    </tr>\n",
              "  </tbody>\n",
              "</table>\n",
              "<p>133 rows × 6 columns</p>\n",
              "</div>"
            ],
            "text/plain": [
              "                                             sequences  ...                                        matriz_disp\n",
              "0    [34, 8, 17, 10, 0, 39, 15, 24, 6, 30, 8, 1, 38...  ...  [6, 8, 5, 5, 4, 9, 6, 4, 6, 1, 4, 5, 7, 3, 2, ...\n",
              "1    [34, 8, 17, 23, 49, 56, 15, 7, 6, 61, 39, 1, 3...  ...  [7, 8, 6, 4, 5, 2, 5, 8, 3, 3, 7, 5, 1, 2, 4, ...\n",
              "2    [34, 8, 17, 23, 49, 56, 12, 7, 6, 61, 39, 1, 3...  ...  [7, 8, 6, 3, 5, 2, 5, 8, 2, 4, 6, 4, 2, 2, 3, ...\n",
              "3    [34, 8, 17, 23, 49, 56, 12, 7, 6, 61, 39, 1, 3...  ...  [8, 8, 4, 4, 4, 2, 6, 8, 2, 3, 5, 4, 4, 2, 4, ...\n",
              "4    [34, 8, 17, 23, 49, 56, 12, 7, 6, 61, 39, 1, 3...  ...  [8, 8, 6, 3, 5, 2, 5, 8, 2, 4, 6, 4, 2, 2, 4, ...\n",
              "..                                                 ...  ...                                                ...\n",
              "128  [21, 9, 28, 10, 0, 39, 5, 7, 4, 30, 8, 1, 38, ...  ...  [6, 6, 8, 7, 5, 6, 3, 2, 6, 6, 3, 5, 4, 5, 3, ...\n",
              "129  [21, 9, 28, 10, 0, 39, 5, 7, 4, 30, 8, 1, 38, ...  ...  [6, 7, 8, 6, 5, 6, 3, 2, 6, 6, 3, 5, 4, 5, 3, ...\n",
              "130  [21, 9, 28, 10, 10, 62, 7, 7, 6, 61, 8, 1, 36,...  ...  [9, 4, 4, 3, 2, 7, 8, 6, 3, 3, 7, 3, 6, 3, 3, ...\n",
              "131  [21, 9, 17, 10, 0, 56, 24, 7, 6, 30, 8, 1, 36,...  ...  [10, 5, 6, 3, 5, 6, 5, 4, 3, 4, 6, 5, 5, 5, 2,...\n",
              "132  [21, 9, 21, 10, 0, 54, 5, 7, 4, 30, 8, 1, 26, ...  ...  [8, 6, 8, 6, 5, 6, 4, 2, 6, 5, 2, 4, 4, 5, 3, ...\n",
              "\n",
              "[133 rows x 6 columns]"
            ]
          },
          "metadata": {
            "tags": []
          },
          "execution_count": 44
        }
      ]
    },
    {
      "cell_type": "code",
      "metadata": {
        "id": "wABYUs1lfbIQ"
      },
      "source": [
        "import tensorflow as tf\n",
        "\n",
        "series = ns1[\"matriz_disp\"].copy()\n",
        "slist = series.to_list()\n",
        "train_data = np.array(slist)"
      ],
      "execution_count": null,
      "outputs": []
    },
    {
      "cell_type": "code",
      "metadata": {
        "id": "fiPHVd45bR29",
        "colab": {
          "base_uri": "https://localhost:8080/",
          "height": 244
        },
        "outputId": "d43e475e-b9e4-49c8-a039-24ffc4842282"
      },
      "source": [
        "arr = np.array(ns1[\"matriz_disp\"].to_list())\n",
        "\n",
        "igualdade = np.zeros(arr.shape)\n",
        "\n",
        "def checaIgualdadeComOutrosElementos(el, vetor):\n",
        "  acumulador = 0\n",
        "  for i, elem in enumerate(vetor):\n",
        "    if (elem == el):\n",
        "      acumulador += 1\n",
        "  return acumulador\n",
        "\n",
        "for i in range(0, arr.shape[1]):\n",
        "  col = arr[:,i:i+1].reshape(-1)\n",
        "  for j in range(0, arr.shape[0]):\n",
        "    igualdade[j, i] = (checaIgualdadeComOutrosElementos(col[j], col))\n",
        "\n",
        "medias = np.zeros(56)\n",
        "for i in range(0, igualdade.shape[1]):\n",
        "  medias[i] = igualdade[:, i:i+1].reshape(-1).mean()\n",
        "\n",
        "reversed_dict = {value : key for (key, value) in dict_final.items()}\n",
        "\n",
        "arr_codons = []\n",
        "for i in range(0, len(reversed_dict)):\n",
        "   arr_codons.append(reversed_dict[i])\n",
        "\n",
        "fig = plt.figure(figsize=(15, 5))\n",
        "ax = fig.add_axes([0,0,1,1])\n",
        "ax.bar(arr_codons, medias)\n",
        "ax.spines[\"top\"].set_visible(False)\n",
        "ax.spines[\"right\"].set_visible(False)\n",
        "plt.xticks(rotation=90)\n",
        "plt.annotate(\"Os últimos são altos porque seus valores incluem 0 várias vezes\", xy=(len(arr_codons) - 35, np.max(medias) - 50), xytext=(30, 50))\n",
        "plt.show()"
      ],
      "execution_count": null,
      "outputs": [
        {
          "output_type": "error",
          "ename": "IndexError",
          "evalue": "ignored",
          "traceback": [
            "\u001b[0;31m---------------------------------------------------------------------------\u001b[0m",
            "\u001b[0;31mIndexError\u001b[0m                                Traceback (most recent call last)",
            "\u001b[0;32m<ipython-input-46-df6d22117022>\u001b[0m in \u001b[0;36m<module>\u001b[0;34m()\u001b[0m\n\u001b[1;32m     17\u001b[0m \u001b[0mmedias\u001b[0m \u001b[0;34m=\u001b[0m \u001b[0mnp\u001b[0m\u001b[0;34m.\u001b[0m\u001b[0mzeros\u001b[0m\u001b[0;34m(\u001b[0m\u001b[0;36m56\u001b[0m\u001b[0;34m)\u001b[0m\u001b[0;34m\u001b[0m\u001b[0;34m\u001b[0m\u001b[0m\n\u001b[1;32m     18\u001b[0m \u001b[0;32mfor\u001b[0m \u001b[0mi\u001b[0m \u001b[0;32min\u001b[0m \u001b[0mrange\u001b[0m\u001b[0;34m(\u001b[0m\u001b[0;36m0\u001b[0m\u001b[0;34m,\u001b[0m \u001b[0migualdade\u001b[0m\u001b[0;34m.\u001b[0m\u001b[0mshape\u001b[0m\u001b[0;34m[\u001b[0m\u001b[0;36m1\u001b[0m\u001b[0;34m]\u001b[0m\u001b[0;34m)\u001b[0m\u001b[0;34m:\u001b[0m\u001b[0;34m\u001b[0m\u001b[0;34m\u001b[0m\u001b[0m\n\u001b[0;32m---> 19\u001b[0;31m   \u001b[0mmedias\u001b[0m\u001b[0;34m[\u001b[0m\u001b[0mi\u001b[0m\u001b[0;34m]\u001b[0m \u001b[0;34m=\u001b[0m \u001b[0migualdade\u001b[0m\u001b[0;34m[\u001b[0m\u001b[0;34m:\u001b[0m\u001b[0;34m,\u001b[0m \u001b[0mi\u001b[0m\u001b[0;34m:\u001b[0m\u001b[0mi\u001b[0m\u001b[0;34m+\u001b[0m\u001b[0;36m1\u001b[0m\u001b[0;34m]\u001b[0m\u001b[0;34m.\u001b[0m\u001b[0mreshape\u001b[0m\u001b[0;34m(\u001b[0m\u001b[0;34m-\u001b[0m\u001b[0;36m1\u001b[0m\u001b[0;34m)\u001b[0m\u001b[0;34m.\u001b[0m\u001b[0mmean\u001b[0m\u001b[0;34m(\u001b[0m\u001b[0;34m)\u001b[0m\u001b[0;34m\u001b[0m\u001b[0;34m\u001b[0m\u001b[0m\n\u001b[0m\u001b[1;32m     20\u001b[0m \u001b[0;34m\u001b[0m\u001b[0m\n\u001b[1;32m     21\u001b[0m \u001b[0mreversed_dict\u001b[0m \u001b[0;34m=\u001b[0m \u001b[0;34m{\u001b[0m\u001b[0mvalue\u001b[0m \u001b[0;34m:\u001b[0m \u001b[0mkey\u001b[0m \u001b[0;32mfor\u001b[0m \u001b[0;34m(\u001b[0m\u001b[0mkey\u001b[0m\u001b[0;34m,\u001b[0m \u001b[0mvalue\u001b[0m\u001b[0;34m)\u001b[0m \u001b[0;32min\u001b[0m \u001b[0mdict_final\u001b[0m\u001b[0;34m.\u001b[0m\u001b[0mitems\u001b[0m\u001b[0;34m(\u001b[0m\u001b[0;34m)\u001b[0m\u001b[0;34m}\u001b[0m\u001b[0;34m\u001b[0m\u001b[0;34m\u001b[0m\u001b[0m\n",
            "\u001b[0;31mIndexError\u001b[0m: index 56 is out of bounds for axis 0 with size 56"
          ]
        }
      ]
    },
    {
      "cell_type": "code",
      "metadata": {
        "id": "qKJq2Z2hjKZB"
      },
      "source": [
        "#Normalização do Train Data\n",
        "\n",
        "train_stats = pd.DataFrame(train_data).describe()\n",
        "train_stats = train_stats.transpose()\n",
        "\n",
        "def norm(x):\n",
        "  return (x - train_stats['mean']) / train_stats['std']\n",
        "\n",
        "# train_data = normalize(train_data)\n",
        "# train_data\n",
        "\n",
        "train_data = norm(pd.DataFrame(train_data))\n",
        "train_data = train_data.to_numpy()"
      ],
      "execution_count": null,
      "outputs": []
    },
    {
      "cell_type": "code",
      "metadata": {
        "id": "qpvxaSuzgLAE",
        "colab": {
          "base_uri": "https://localhost:8080/"
        },
        "outputId": "4d4d0fcd-b443-456c-8a38-045a6ee01838"
      },
      "source": [
        "from keras import models, Model\n",
        "from keras import layers \n",
        "import keras\n",
        "\n",
        "def build_model():\n",
        "    inputs = layers.Input(shape=(size,)) # placeholder\n",
        "    x = layers.Dense(8, activation='tanh')(inputs)\n",
        "    out = layers.Dense(1, activation='sigmoid')(x)\n",
        "\n",
        "    model = Model(inputs=[inputs], outputs=[out], name=\"protein\")\n",
        "\n",
        "    model.summary()\n",
        "\n",
        "    opt = keras.optimizers.SGD(learning_rate=0.01)\n",
        "\n",
        "    model.compile(optimizer=opt,\n",
        "                loss='binary_crossentropy',\n",
        "                metrics=['accuracy'])\n",
        "    return model\n",
        "  \n",
        "modelito = build_model()\n",
        "\n",
        "halfShape = int(np.floor(( ns1.shape[0] /2 )))\n",
        "\n",
        "history = modelito.fit(train_data[:halfShape], train_labels[:halfShape], epochs=10, batch_size=10, \n",
        "                      validation_data=(train_data[halfShape: ns1.shape[0]], train_labels[ halfShape: ns1.shape[0] ]))"
      ],
      "execution_count": null,
      "outputs": [
        {
          "output_type": "stream",
          "text": [
            "Model: \"protein\"\n",
            "_________________________________________________________________\n",
            "Layer (type)                 Output Shape              Param #   \n",
            "=================================================================\n",
            "input_4 (InputLayer)         [(None, 66)]              0         \n",
            "_________________________________________________________________\n",
            "dense_6 (Dense)              (None, 8)                 536       \n",
            "_________________________________________________________________\n",
            "dense_7 (Dense)              (None, 1)                 9         \n",
            "=================================================================\n",
            "Total params: 545\n",
            "Trainable params: 545\n",
            "Non-trainable params: 0\n",
            "_________________________________________________________________\n",
            "Epoch 1/10\n",
            "7/7 [==============================] - 1s 53ms/step - loss: 0.8301 - accuracy: 0.3309 - val_loss: 0.6491 - val_accuracy: 0.6119\n",
            "Epoch 2/10\n",
            "7/7 [==============================] - 0s 10ms/step - loss: 0.7533 - accuracy: 0.3812 - val_loss: 0.6434 - val_accuracy: 0.6269\n",
            "Epoch 3/10\n",
            "7/7 [==============================] - 0s 8ms/step - loss: 0.6941 - accuracy: 0.4885 - val_loss: 0.6403 - val_accuracy: 0.6716\n",
            "Epoch 4/10\n",
            "7/7 [==============================] - 0s 10ms/step - loss: 0.6346 - accuracy: 0.6309 - val_loss: 0.6391 - val_accuracy: 0.6418\n",
            "Epoch 5/10\n",
            "7/7 [==============================] - 0s 9ms/step - loss: 0.6379 - accuracy: 0.6232 - val_loss: 0.6385 - val_accuracy: 0.6418\n",
            "Epoch 6/10\n",
            "7/7 [==============================] - 0s 8ms/step - loss: 0.5954 - accuracy: 0.6284 - val_loss: 0.6380 - val_accuracy: 0.6418\n",
            "Epoch 7/10\n",
            "7/7 [==============================] - 0s 7ms/step - loss: 0.6136 - accuracy: 0.6040 - val_loss: 0.6381 - val_accuracy: 0.6567\n",
            "Epoch 8/10\n",
            "7/7 [==============================] - 0s 9ms/step - loss: 0.6060 - accuracy: 0.5713 - val_loss: 0.6381 - val_accuracy: 0.6716\n",
            "Epoch 9/10\n",
            "7/7 [==============================] - 0s 8ms/step - loss: 0.5744 - accuracy: 0.6502 - val_loss: 0.6383 - val_accuracy: 0.6567\n",
            "Epoch 10/10\n",
            "7/7 [==============================] - 0s 9ms/step - loss: 0.5651 - accuracy: 0.6845 - val_loss: 0.6380 - val_accuracy: 0.6716\n"
          ],
          "name": "stdout"
        }
      ]
    },
    {
      "cell_type": "code",
      "metadata": {
        "colab": {
          "base_uri": "https://localhost:8080/",
          "height": 280
        },
        "id": "5IVU74EqNyIx",
        "outputId": "88b20246-96ed-487d-ce28-1ca387c00493"
      },
      "source": [
        "\n",
        "fig = plt.figure(figsize=(8, 3))\n",
        "ax = fig.add_axes([0,0,1,1])\n",
        "epochs = list(range(1, len(history.history[\"accuracy\"]) + 1))\n",
        "ax.plot(pd.Series(epochs).astype(int), history.history[\"accuracy\"])\n",
        "ax.plot(epochs, history.history[\"val_accuracy\"])\n",
        "ax.spines[\"right\"].set_visible(False)\n",
        "ax.spines[\"top\"].set_visible(False)\n",
        "ax.spines[\"left\"].set_visible(False)\n",
        "ax.margins(0.2)\n",
        "ax.set_ylim(ymin=0, ymax= 1)\n",
        "plt.xticks(epochs, epochs)\n",
        "plt.legend([\"Acurácia de treino\", \"Acurácia de Validação\"], loc=\"lower right\")\n",
        "plt.title(\"Acurácia & Validação do Treino\")\n",
        "plt.text(len(epochs) + 0.3, \n",
        "         np.max(history.history[\"accuracy\"]) + 0.01, str(round(np.max(history.history[\"accuracy\"]), 4)),\n",
        "         color=\"#1f77b4\")\n",
        "plt.text(len(epochs) + 0.3, np.max(history.history[\"val_accuracy\"]) - 0.06, str(round(np.max(history.history[\"val_accuracy\"]), 4)),\n",
        "         color=\"#ff7f04\")\n",
        "plt.show()"
      ],
      "execution_count": null,
      "outputs": [
        {
          "output_type": "display_data",
          "data": {
            "image/png": "[encoded data removed]",
            "text/plain": [
              "<Figure size 576x216 with 1 Axes>"
            ]
          },
          "metadata": {
            "tags": [],
            "needs_background": "light"
          }
        }
      ]
    },
    {
      "cell_type": "code",
      "metadata": {
        "id": "y-gJSlxA4Gpm",
        "colab": {
          "base_uri": "https://localhost:8080/"
        },
        "outputId": "7405b8c1-ffda-4479-91f8-05aab501fb3b"
      },
      "source": [
        "amount = train_data.shape[0]\n",
        "initial = int(np.floor(amount / 2))\n",
        "\n",
        "test, val = train_data[initial:amount], train_labels[initial:amount]\n",
        "\n",
        "prediction = modelito.predict(test)\n",
        "\n",
        "arr_prediction = pd.Series(tf.greater(prediction, 0.5).numpy().reshape(-1))\n",
        "arr_prediction = arr_prediction.astype(int).to_numpy()\n",
        "\n",
        "falsos_negativos, falsos_positivos = 0,0\n",
        "acertos_positivos, acertos_negativos = 0,0\n",
        "\n",
        "for index, valor in enumerate(arr_prediction):\n",
        "  if valor == val[index]:\n",
        "    if (valor == 1): acertos_positivos += 1\n",
        "    if (valor == 0): acertos_negativos += 1\n",
        "  else:\n",
        "    if (valor == 1): falsos_positivos += 1\n",
        "    if (valor == 0): falsos_negativos += 1\n",
        "\n",
        "print(\"(Início do Vetor, Fim do Vetor): \", (initial, amount))\n",
        "print(pd.Series(val).value_counts())\n",
        "print()\n",
        "print(\"Matriz de Confusão:\")\n",
        "print(np.array([[acertos_positivos, falsos_negativos],\n",
        "       [falsos_positivos, acertos_negativos]]))\n",
        "print()\n",
        "acertos, erros = acertos_negativos + acertos_positivos, falsos_positivos + falsos_negativos\n",
        "print(\"Quantidade de (acertos, erros, porcentagens): \", (acertos, erros, np.round(acertos / (amount - initial) * 100, 3), np.round(erros / (amount - initial) * 100, 3)))"
      ],
      "execution_count": null,
      "outputs": [
        {
          "output_type": "stream",
          "text": [
            "(Início do Vetor, Fim do Vetor):  (66, 133)\n",
            "0    49\n",
            "1    18\n",
            "dtype: int64\n",
            "\n",
            "Matriz de Confusão:\n",
            "[[10  8]\n",
            " [14 35]]\n",
            "\n",
            "Quantidade de (acertos, erros, porcentagens):  (45, 22, 67.164, 32.836)\n"
          ],
          "name": "stdout"
        }
      ]
    },
    {
      "cell_type": "code",
      "metadata": {
        "id": "UmMXTnECuRPH"
      },
      "source": [
        "import json\n",
        "\n",
        "with open(\"model_proteinM.json\", \"w\") as json_file:\n",
        "    json.dump(modelito.to_json(), json_file)"
      ],
      "execution_count": null,
      "outputs": []
    },
    {
      "cell_type": "code",
      "metadata": {
        "id": "yH0GiSzySSfj"
      },
      "source": [
        ""
      ],
      "execution_count": null,
      "outputs": []
    },
    {
      "cell_type": "code",
      "metadata": {
        "id": "RBW2oUq8L44c"
      },
      "source": [
        ""
      ],
      "execution_count": null,
      "outputs": []
    }
  ]
}